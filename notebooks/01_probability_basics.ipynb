{
 "cells": [
  {
   "cell_type": "markdown",
   "metadata": {},
   "source": [
    "# Exercises on probability basics"
   ]
  },
  {
   "cell_type": "markdown",
   "metadata": {},
   "source": [
    "<font color='red'>In generale non mi è chiara una cosa. Devono essere solo notebook di supporto alle lezioni, giusto? Ovvero, suppongo sempre che tutte le nozioni siano già note e faccio giusto un recap</font>"
   ]
  },
  {
   "cell_type": "markdown",
   "metadata": {},
   "source": [
    "### Probability distributions\n",
    "\n",
    "Quick recap on the main discrete and continuous distributions.\n",
    "\n",
    "| discrete distribution | pmf | mean | variance | \n",
    "| :------:|:-----:|:------:|:------:|\n",
    "| Binomial $$\\text{Bin}(n,p)$$ | $$ {n \\choose x} p^x (1-p)^{n-x}$$ | $$np$$ | $$np(1-p)$$|\n",
    "| Bernoulli $$\\text{Bern}(p)$$| $$\\begin{cases}1-p &k=1\\\\ 0&k=0\\end{cases}$$ | $$p$$ |$$p(1-p)$$|\n",
    "| Discrete Uniform $$\\mathcal{U}(a,b)$$ | $$\\frac{1}{b-a+1}$$ | $$\\frac{b+a}{2}$$ |$$\\frac{(b-a+1)^2-1}{12}$$|\n",
    "| Geometric $$\\text{Geom}(p)$$ | $(1-p)^{k-1}p$ |$$\\frac{1}{p}$$|$$\\frac{1-p}{p^2}$$|\n",
    "| Poisson $$\\text{Pois}(\\lambda)$$ |$$\\frac{\\lambda^k e^{-\\lambda}}{k!}$$|$$\\lambda$$ | $$\\lambda$$| \n",
    "\n",
    "where:\n",
    "- $n\\in\\{0,1,2,...\\}$\n",
    "- $p \\in [0,1]$ or $p \\in (0,1)$\n",
    "- $b\\geq a$\n",
    "- $k\\in\\{1,2,3,...\\}$\n",
    "- $\\lambda \\in \\mathbb{R}^+$\n",
    "\n",
    "| continuous distribution | pdf | mean | variance |\n",
    "| :--------------:|:--------:|:------:|:--------:|\n",
    "| Continuous Uniform $$\\mathcal{U}(a,b)$$|$$\\begin{cases}\\frac{1}{b-a} & x \\in [a,b]\\\\0 & \\text{otherwise}\\end{cases}$$|$$\\frac{a+b}{2}$$|$$\\frac{(b-a)^2}{12}$$|\n",
    "| Exponential $$\\text{Exp}(\\lambda)$$|$$\\lambda e^{-\\lambda x}$$|$$1/\\lambda$$|$$1/\\lambda^2$$|\n",
    "| Gaussian $$\\mathcal{N}(\\mu,\\sigma^2)$$|$$\\frac{1}{\\sigma\\sqrt{2\\pi}}e^{-\\frac{1}{2}\\big(\\frac{x-\\mu}{\\sigma}\\big)^2}$$|$$\\mu$$|$$\\sigma^2$$|\n",
    "|Beta $$\\text{Beta}(\\alpha,\\beta)$$|$$\\frac{x^{\\alpha-1}(1-x)^{\\beta-1}}{B(\\alpha,\\beta)}$$|$$\\frac{\\alpha}{\\alpha+\\beta}$$|$$\\frac{\\alpha\\beta}{(\\alpha+\\beta)^2(\\alpha+\\beta+1)}$$|\n",
    "|Gamma $$\\text{Gamma}(k,\\theta)$$|$$\\frac{1}{\\Gamma(k)\\theta^k}x^{k-1}e^{-\\frac{x}{\\theta}}$$|$$k\\theta$$|$$k\\theta^2$$|\n",
    "|Dirichlet $$Dir(\\alpha)$$|$$\\frac{1}{B(\\alpha)}\\prod_{i=1}^{K}x_i^{\\alpha_i-1}$$|$$\\tilde{\\alpha}_i$$|$$\\frac{\\tilde{\\alpha}_i(1-\\tilde{\\alpha}_i)}{\\alpha_0+1}$$|\n",
    "|Student's t $$St(\\nu)$$| $$\\frac{\\Gamma(\\frac{\\nu+1}{2})}{\\sqrt{\\nu\\pi}\\Gamma(\\frac{\\nu}{2})}{\\Big(1+\\frac{x^2}{\\nu}\\Big)^{-\\frac{\\nu+1}{2}}}$$ |$$0$$|$$\\begin{cases}\\frac{\\nu}{\\nu-2}&\\nu>2\\\\\\infty&1<\\nu\\leq2\\end{cases}$$|\n",
    "\n",
    "where:\n",
    "- $b\\geq a$\n",
    "- $\\lambda \\in \\mathbb{R}^+$\n",
    "- $\\mu,\\sigma,\\alpha,\\beta\\in\\mathbb{R}$\n",
    "- $k,\\theta > 0$\n",
    "- $K\\in\\mathbb{Z}_{\\geq2}$\n",
    "- $\\tilde{\\alpha}_i=\\frac{\\alpha_i}{\\sum_{h=1}^K\\alpha_h}$, $\\alpha_0=\\sum_{i=1}^K \\alpha_i$\n",
    "- $\\nu>1$\n"
   ]
  },
  {
   "cell_type": "markdown",
   "metadata": {},
   "source": [
    "### Expected value\n",
    "**Definition**\n",
    "\n",
    "<font color='red'>Va bene la definizione sui reali o meglio generica su spazi misurabili?</font>\n",
    "\n",
    "Let $X:(\\Omega,\\mathcal{F},P)\\longrightarrow \\mathbb{R}$ be a random variable.\n",
    "\n",
    "|outcomes $\\Omega$|expectation $E[X]$|\n",
    "|:-----:|:-----:|\n",
    "|finite| $$\\sum_{i=1}^k x_i p_X(x_i)$$|\n",
    "|countable|$$\\sum_{i=1}^\\infty x_i p_X(x_i)$$|\n",
    "|continuous|$$\\int_{\\mathbb{R}}x f_X(x)dx$$|\n",
    "\n",
    "where $p_X$ is the probability mass function of $X$ and $f_X$ is the probability density function of $X$. \n",
    "\n",
    "**Example 1**\n",
    "\n",
    "Let $Y$ be a discrete random variable with values in $\\{0,1\\}$ and let $P(Y=1)=p$. Suppose we want to compute the expectation $\\mathbb{E}(|Y-p|)$.\n",
    "\n",
    "From the definition of expectation we know that, in the discrete case, we just need to multiply each possible value that the random variable can assume by its probability of occurring:\n",
    "\n",
    "$$\n",
    "\\mathbb{E}(|Y-p|) = p(1-p) + (1-p) p = 2p(1-p)\n",
    "$$\n",
    "\n",
    "**Example 2**\n",
    "\n",
    "Let the pdf of $X$ be \n",
    "\n",
    "$$f(x)=\\begin{cases}cx^2(1-x) & 0\\leq x \\leq 1\\\\ 0 & \\text{otherwise}\\end{cases}$$\n",
    "\n",
    "We want to determine $c\\in\\mathbb{R}$ such that $f(x)$ is a valid pdf:\n",
    "\n",
    "$$1 =\\int_0^1 cx^2(1-x)dx = c \\int_0^1 (x^2-x^3)dx = c\\Big[\\frac{x^3}{3}-\\frac{x^4}{4}\\Big]_0^1 = \\frac{c}{12} $$\n",
    "\n",
    "$$\\Rightarrow c=12$$\n",
    "\n",
    "Now we compute the expected value of $X$:\n",
    "\n",
    "$$E[X]=12\\int_0^1x^3(1-x)dx=12\\Big[\\frac{x^4}{4}-\\frac{x^5}{5}\\Big]_0^1=\\frac{3}{5}$$"
   ]
  },
  {
   "cell_type": "markdown",
   "metadata": {},
   "source": [
    "### Marginal and conditional distributions\n",
    "\n",
    "\n",
    "\n",
    "**Example 3**\n",
    "\n",
    "Let $X$ and $Y$ be two discrete random variables with joint probability distribution\n",
    "$$\n",
    "p(x,y) = \\frac{1}{21}(x+y)\n",
    "$$\n",
    "for $x=1,2,3$ and $y=1,2$.\n",
    "\n",
    "The **marginal distribution** of $X$ is\n",
    "$$\n",
    "p_X(x) = \\sum_{y=1}^2 p(x,y) = \\sum_{y=1}^2 \\frac{1}{21}(x+y) = \\frac{1}{21}(2x+3)\n",
    "$$\n",
    "for $x=1,2,3$.\n",
    "\n",
    "The **conditional distribution** of $Y$ given $X=1$ is\n",
    "\n",
    "$$\n",
    "p_{Y|X}(y|1)=\\frac{p(1,y)}{p_X(1)}= \\frac{\\frac{1}{21}(1+y)}{\\frac{5}{21}} = \\frac{1}{5}(1+y)\n",
    "$$\n",
    "\n",
    "for $y=1,2$.\n",
    "\n"
   ]
  },
  {
   "cell_type": "markdown",
   "metadata": {},
   "source": [
    "### Conjugate priors\n",
    "\n",
    "If the posterior distribution $p(\\theta|x)$ belongs to the same family as the prior distribution $p(\\theta)$, then the prior is said to be a **conjugate prior** for the likelihood function $p(x|\\theta)$.\n",
    "This is a particularly convenient case in which the posterior distribution has a closed-form expression, otherwise we need to rely on numerical integration.\n",
    "\n",
    "These are just a few examples of conjugate priors:\n",
    "\n",
    "|Conjugate prior distribution| Likelihood | Prior hyperparameters | Posterior hyperparameters|\n",
    "|:------:|:-----:|:-----:|:------:|\n",
    "|Normal|Normal (known var.)|$$\\mu_0,\\sigma_0^2$$|$$\\frac{1}{\\frac{1}{\\sigma_0^2}+\\frac{n}{\\sigma^2}}\\Bigg(\\frac{\\mu_0}{\\sigma_0^2}+\\frac{\\sum_{i=1}^n x_i}{\\sigma^2}\\Bigg),\\Bigg(\\frac{1}{\\sigma_0^2}+\\frac{n}{\\sigma^2}\\Bigg)^{-1}$$|\n",
    "|Inverse Gamma|Normal (known mean)|$$\\alpha,\\beta$$|$$\\alpha+\\frac{n}{2},\\beta+\\frac{\\sum_{i=1}^n (x_i-\\mu)^2}{2}$$|\n",
    "|Beta|Binomial|$$\\alpha,\\beta$$|$$\\alpha+\\sum_{i=1}^n x_i, \\beta+n-\\sum_{i=1}^n x_i$$|\n",
    "|Gamma|Poisson|$$k,\\theta$$|$$k+\\sum_{i=1}^n x_i,\\frac{\\theta}{n\\theta+1}$$|\n",
    "|Gamma|Exponential|$$\\alpha,\\beta$$|$$\\alpha+n,\\beta+\\sum_{i=1}^n x_i$$|"
   ]
  },
  {
   "cell_type": "markdown",
   "metadata": {},
   "source": [
    "**Beta-Binomial example**\n",
    "\n",
    "$Beta(\\alpha,\\beta)$ prior and $x\\sim Bin(n,\\pi)$ likelihood result in the posterior\n",
    "\n",
    "\\begin{align}\n",
    "p(\\pi|x,\\alpha,\\beta)&\\propto \\pi^x (1-\\pi)^{n-x} \\pi^{\\alpha-1}(1-\\pi)^{\\beta-1}\\\\\n",
    "                     &\\propto \\pi^{x+\\alpha-1}(1-\\pi)^{n-x+\\beta-1}\n",
    "\\end{align}\n",
    "\n",
    "which is a $Beta(x+\\alpha, n-x+\\beta)$"
   ]
  }
 ],
 "metadata": {
  "kernelspec": {
   "display_name": "Python 3",
   "language": "python",
   "name": "python3"
  },
  "language_info": {
   "codemirror_mode": {
    "name": "ipython",
    "version": 3
   },
   "file_extension": ".py",
   "mimetype": "text/x-python",
   "name": "python",
   "nbconvert_exporter": "python",
   "pygments_lexer": "ipython3",
   "version": "3.6.9"
  }
 },
 "nbformat": 4,
 "nbformat_minor": 2
}
