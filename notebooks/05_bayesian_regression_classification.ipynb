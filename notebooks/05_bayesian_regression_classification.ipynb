{
 "cells": [
  {
   "cell_type": "code",
   "execution_count": 2,
   "metadata": {},
   "outputs": [],
   "source": [
    "import pyro\n",
    "import torch\n",
    "import pyro.distributions as dist\n",
    "import pyro.optim as optim\n",
    "from pyro.infer import MCMC, HMC, NUTS\n",
    "import pandas as pd \n",
    "import seaborn as sns\n",
    "import matplotlib.pyplot as plt\n",
    "sns.set_style(\"darkgrid\")\n",
    "figsize=(10,4)"
   ]
  },
  {
   "cell_type": "markdown",
   "metadata": {},
   "source": [
    "## Bayesian regression\n"
   ]
  },
  {
   "cell_type": "code",
   "execution_count": 2,
   "metadata": {},
   "outputs": [
    {
     "data": {
      "text/plain": [
       "<matplotlib.axes._subplots.AxesSubplot at 0x7f18f3c835f8>"
      ]
     },
     "execution_count": 2,
     "metadata": {},
     "output_type": "execute_result"
    },
    {
     "data": {
      "image/png": "[encoded data removed]",
      "text/plain": [
       "<Figure size 720x288 with 1 Axes>"
      ]
     },
     "metadata": {},
     "output_type": "display_data"
    }
   ],
   "source": [
    "def generate_data():\n",
    "    x_tensor = torch.arange(-5, 5, 0.2)\n",
    "    y = []\n",
    "    for x in x_tensor:\n",
    "        noise = pyro.sample(\"noise\", dist.Normal(torch.tensor(0.), torch.tensor(2)))\n",
    "        y.append(2. * x + .3 + noise)\n",
    "    y_tensor = torch.stack(y)\n",
    "    return x_tensor, y_tensor\n",
    "\n",
    "# generated data\n",
    "fig, ax = plt.subplots(figsize=figsize)\n",
    "x, y = generate_data()\n",
    "sns.scatterplot(x, y)"
   ]
  },
  {
   "cell_type": "code",
   "execution_count": 3,
   "metadata": {},
   "outputs": [
    {
     "name": "stderr",
     "output_type": "stream",
     "text": [
      "Sample: 100%|██████████| 300/300 [00:05, 54.22it/s, step size=6.23e-01, acc. prob=0.928]\n"
     ]
    }
   ],
   "source": [
    "def br_model(x, y):\n",
    "    \n",
    "    w = pyro.sample(\"w\", dist.Normal(0., 1.))\n",
    "    b = pyro.sample(\"b\", dist.Normal(0., 1.))\n",
    "    \n",
    "    y_hat = w * x + b\n",
    "    sigma = pyro.sample(\"sigma\", dist.Uniform(0., 1.))\n",
    "    \n",
    "    with pyro.plate(\"data\", len(x)):    \n",
    "        y = pyro.sample(\"y\", dist.Normal(y_hat, sigma), obs=y)\n",
    "        \n",
    "kernel = NUTS(br_model)\n",
    "mcmc = MCMC(kernel, num_samples=100, warmup_steps=200)\n",
    "mcmc.run(x,y)\n",
    "posterior_samples = mcmc.get_samples()"
   ]
  },
  {
   "cell_type": "code",
   "execution_count": 4,
   "metadata": {},
   "outputs": [
    {
     "data": {
      "text/plain": [
       "[Text(0, 0.5, 'y'), Text(0.5, 0, 'x')]"
      ]
     },
     "execution_count": 4,
     "metadata": {},
     "output_type": "execute_result"
    },
    {
     "data": {
      "image/png": "[encoded data removed]",
      "text/plain": [
       "<Figure size 720x288 with 1 Axes>"
      ]
     },
     "metadata": {},
     "output_type": "display_data"
    }
   ],
   "source": [
    "# extract posterior estimates\n",
    "w = posterior_samples[\"w\"].mean()\n",
    "b = posterior_samples[\"b\"].mean()\n",
    "sigma = posterior_samples[\"sigma\"].mean()\n",
    "\n",
    "# plot regression fit\n",
    "fig, ax = plt.subplots(figsize=figsize)\n",
    "ax = sns.scatterplot(x, y)\n",
    "sns.lineplot(x, w * x + b , color=\"k\")\n",
    "ax.set(xlabel=\"x\", ylabel=\"y\")\n",
    "del x,y"
   ]
  },
  {
   "cell_type": "markdown",
   "metadata": {},
   "source": [
    "## Multiple linear regression\n",
    "\n"
   ]
  },
  {
   "cell_type": "code",
   "execution_count": 3,
   "metadata": {},
   "outputs": [
    {
     "name": "stdout",
     "output_type": "stream",
     "text": [
      "<class 'pandas.core.frame.DataFrame'>\n",
      "Int64Index: 56420 entries, 5939 to 139112\n",
      "Data columns (total 24 columns):\n",
      " #   Column         Non-Null Count  Dtype  \n",
      "---  ------         --------------  -----  \n",
      " 0   Date           56420 non-null  object \n",
      " 1   Location       56420 non-null  object \n",
      " 2   MinTemp        56420 non-null  float64\n",
      " 3   MaxTemp        56420 non-null  float64\n",
      " 4   Rainfall       56420 non-null  float64\n",
      " 5   Evaporation    56420 non-null  float64\n",
      " 6   Sunshine       56420 non-null  float64\n",
      " 7   WindGustDir    56420 non-null  object \n",
      " 8   WindGustSpeed  56420 non-null  float64\n",
      " 9   WindDir9am     56420 non-null  object \n",
      " 10  WindDir3pm     56420 non-null  object \n",
      " 11  WindSpeed9am   56420 non-null  float64\n",
      " 12  WindSpeed3pm   56420 non-null  float64\n",
      " 13  Humidity9am    56420 non-null  float64\n",
      " 14  Humidity3pm    56420 non-null  float64\n",
      " 15  Pressure9am    56420 non-null  float64\n",
      " 16  Pressure3pm    56420 non-null  float64\n",
      " 17  Cloud9am       56420 non-null  float64\n",
      " 18  Cloud3pm       56420 non-null  float64\n",
      " 19  Temp9am        56420 non-null  float64\n",
      " 20  Temp3pm        56420 non-null  float64\n",
      " 21  RainToday      56420 non-null  object \n",
      " 22  RISK_MM        56420 non-null  float64\n",
      " 23  RainTomorrow   56420 non-null  object \n",
      "dtypes: float64(17), object(7)\n",
      "memory usage: 10.8+ MB\n"
     ]
    }
   ],
   "source": [
    "data = pd.read_csv('data/weatherAUS.csv').dropna()\n",
    "data.info()"
   ]
  },
  {
   "cell_type": "code",
   "execution_count": 4,
   "metadata": {},
   "outputs": [
    {
     "name": "stdout",
     "output_type": "stream",
     "text": [
      "number of observations = 100\n"
     ]
    },
    {
     "data": {
      "text/html": [
       "<div>\n",
       "<style scoped>\n",
       "    .dataframe tbody tr th:only-of-type {\n",
       "        vertical-align: middle;\n",
       "    }\n",
       "\n",
       "    .dataframe tbody tr th {\n",
       "        vertical-align: top;\n",
       "    }\n",
       "\n",
       "    .dataframe thead th {\n",
       "        text-align: right;\n",
       "    }\n",
       "</style>\n",
       "<table border=\"1\" class=\"dataframe\">\n",
       "  <thead>\n",
       "    <tr style=\"text-align: right;\">\n",
       "      <th></th>\n",
       "      <th>Rainfall</th>\n",
       "      <th>MinTemp</th>\n",
       "      <th>MaxTemp</th>\n",
       "      <th>Humidity9am</th>\n",
       "      <th>Humidity3pm</th>\n",
       "      <th>Cloud9am</th>\n",
       "      <th>Cloud3pm</th>\n",
       "    </tr>\n",
       "  </thead>\n",
       "  <tbody>\n",
       "    <tr>\n",
       "      <th>30487</th>\n",
       "      <td>0.2</td>\n",
       "      <td>12.9</td>\n",
       "      <td>20.3</td>\n",
       "      <td>70.0</td>\n",
       "      <td>57.0</td>\n",
       "      <td>3.0</td>\n",
       "      <td>1.0</td>\n",
       "    </tr>\n",
       "    <tr>\n",
       "      <th>30488</th>\n",
       "      <td>0.0</td>\n",
       "      <td>13.3</td>\n",
       "      <td>21.5</td>\n",
       "      <td>75.0</td>\n",
       "      <td>58.0</td>\n",
       "      <td>2.0</td>\n",
       "      <td>5.0</td>\n",
       "    </tr>\n",
       "    <tr>\n",
       "      <th>30489</th>\n",
       "      <td>0.0</td>\n",
       "      <td>15.3</td>\n",
       "      <td>23.0</td>\n",
       "      <td>70.0</td>\n",
       "      <td>63.0</td>\n",
       "      <td>1.0</td>\n",
       "      <td>4.0</td>\n",
       "    </tr>\n",
       "    <tr>\n",
       "      <th>30493</th>\n",
       "      <td>0.2</td>\n",
       "      <td>12.9</td>\n",
       "      <td>26.7</td>\n",
       "      <td>73.0</td>\n",
       "      <td>56.0</td>\n",
       "      <td>1.0</td>\n",
       "      <td>5.0</td>\n",
       "    </tr>\n",
       "    <tr>\n",
       "      <th>30494</th>\n",
       "      <td>0.0</td>\n",
       "      <td>14.8</td>\n",
       "      <td>23.8</td>\n",
       "      <td>76.0</td>\n",
       "      <td>69.0</td>\n",
       "      <td>2.0</td>\n",
       "      <td>7.0</td>\n",
       "    </tr>\n",
       "  </tbody>\n",
       "</table>\n",
       "</div>"
      ],
      "text/plain": [
       "       Rainfall  MinTemp  MaxTemp  Humidity9am  Humidity3pm  Cloud9am  \\\n",
       "30487       0.2     12.9     20.3         70.0         57.0       3.0   \n",
       "30488       0.0     13.3     21.5         75.0         58.0       2.0   \n",
       "30489       0.0     15.3     23.0         70.0         63.0       1.0   \n",
       "30493       0.2     12.9     26.7         73.0         56.0       1.0   \n",
       "30494       0.0     14.8     23.8         76.0         69.0       2.0   \n",
       "\n",
       "       Cloud3pm  \n",
       "30487       1.0  \n",
       "30488       5.0  \n",
       "30489       4.0  \n",
       "30493       5.0  \n",
       "30494       7.0  "
      ]
     },
     "execution_count": 4,
     "metadata": {},
     "output_type": "execute_result"
    }
   ],
   "source": [
    "sydney_data = data.loc[data[\"Location\"]==\"Sydney\"]\n",
    "mlr_data = sydney_data[[\"Rainfall\",\"MinTemp\",\"MaxTemp\",\"Humidity9am\",\n",
    "                        \"Humidity3pm\",\"Cloud9am\",\"Cloud3pm\"]][:100].dropna()\n",
    "print(\"number of observations =\", len(mlr_data))\n",
    "mlr_data.head()"
   ]
  },
  {
   "cell_type": "markdown",
   "metadata": {},
   "source": [
    "\n",
    "\n",
    "$$\n",
    "\\text{Rainfall}=w_0\\cdot\\text{MinTemp}+w_1\\cdot\\text{MaxTemp}+w_2\\cdot\\text{Humidity9am}+\\\\\n",
    "w_3\\cdot\\text{Humidity3pm}+w_4\\cdot\\text{Cloud9am}+w_5\\cdot\\text{Cloud3pm}+b\n",
    "$$"
   ]
  },
  {
   "cell_type": "code",
   "execution_count": 10,
   "metadata": {},
   "outputs": [],
   "source": [
    "# converting dataset columns to torch tensors\n",
    "rain = torch.tensor(sydney_data[\"Rainfall\"].values)\n",
    "predictors = [torch.tensor(sydney_data[column].values) \n",
    "                           for column in [\"MinTemp\",\"MaxTemp\",\"Humidity9am\",\n",
    "                                         \"Humidity3pm\",\"Cloud9am\",\"Cloud3pm\"]]"
   ]
  },
  {
   "cell_type": "code",
   "execution_count": 8,
   "metadata": {},
   "outputs": [],
   "source": [
    "# modelling rain in terms of the predictors\n",
    "def sydney_mlr_model(rain, predictors):\n",
    "    \n",
    "    # sample weights\n",
    "    yhat = 0.\n",
    "    for i, predictor in enumerate(predictors):\n",
    "        w = pyro.sample(f\"w_{i}\", dist.Normal(0.,1.))\n",
    "        yhat += w * predictor\n",
    "    b = pyro.sample(\"b\", dist.Normal(0.,1.))\n",
    "    yhat += b\n",
    "    \n",
    "    # condition on the observations\n",
    "    sigma = pyro.sample(\"sigma\", dist.Normal(0.,0.5))\n",
    "    with pyro.plate(\"data\", len(rain)):\n",
    "        y = pyro.sample(\"y\", dist.Normal(yhat, sigma), obs=rain)"
   ]
  },
  {
   "cell_type": "code",
   "execution_count": 9,
   "metadata": {},
   "outputs": [
    {
     "name": "stderr",
     "output_type": "stream",
     "text": [
      "Sample: 100%|██████████| 150/150 [01:14,  2.01it/s, step size=6.23e-02, acc. prob=0.937]\n"
     ]
    }
   ],
   "source": [
    "kernel = NUTS(sydney_mlr_model)\n",
    "mcmc = MCMC(kernel, num_samples=50, warmup_steps=100)\n",
    "mcmc.run(rain, predictors)"
   ]
  },
  {
   "cell_type": "code",
   "execution_count": 10,
   "metadata": {},
   "outputs": [
    {
     "name": "stdout",
     "output_type": "stream",
     "text": [
      "\n",
      "                mean       std    median      5.0%     95.0%     n_eff     r_hat\n",
      "       w_0      0.56      0.28      0.54      0.10      0.91     16.47      1.20\n",
      "       w_1     -0.75      0.25     -0.74     -1.21     -0.45     17.76      1.11\n",
      "       w_2      0.21      0.06      0.21      0.13      0.31      9.18      1.28\n",
      "       w_3     -0.10      0.08     -0.11     -0.17      0.09     10.47      1.20\n",
      "       w_4      0.38      0.34      0.44     -0.12      0.84     37.92      1.02\n",
      "       w_5      0.47      0.39      0.49     -0.09      1.10     38.53      1.02\n",
      "         b     -0.02      0.83      0.18     -1.72      1.16     23.35      1.10\n",
      "     sigma      5.97      0.19      5.96      5.65      6.19    148.52      0.99\n",
      "\n",
      "Number of divergences: 0\n"
     ]
    }
   ],
   "source": [
    "mcmc.summary()"
   ]
  },
  {
   "cell_type": "code",
   "execution_count": 11,
   "metadata": {},
   "outputs": [
    {
     "data": {
      "image/png": "[encoded data removed]",
      "text/plain": [
       "<Figure size 720x288 with 1 Axes>"
      ]
     },
     "metadata": {},
     "output_type": "display_data"
    }
   ],
   "source": [
    "fig, ax = plt.subplots(figsize=figsize)\n",
    "posterior_samples_df = pd.DataFrame.from_dict(mcmc.get_samples()).iloc[:,0:7]\n",
    "ax = sns.boxplot(data=posterior_samples_df, orient=\"h\")"
   ]
  },
  {
   "cell_type": "code",
   "execution_count": 12,
   "metadata": {},
   "outputs": [
    {
     "name": "stdout",
     "output_type": "stream",
     "text": [
      "torch.Size([100, 6])\n"
     ]
    }
   ],
   "source": [
    "# alternative equivalent model\n",
    "predictors_stacked = torch.stack(predictors,1)\n",
    "print(predictors_stacked.shape)"
   ]
  },
  {
   "cell_type": "code",
   "execution_count": 14,
   "metadata": {},
   "outputs": [
    {
     "name": "stderr",
     "output_type": "stream",
     "text": [
      "Sample: 100%|██████████| 150/150 [00:40,  3.67it/s, step size=5.65e-02, acc. prob=0.932]\n"
     ]
    }
   ],
   "source": [
    "def sydney_mlr_model_2(rain, predictors):\n",
    "    n_predictors = len(predictors[1])\n",
    "    \n",
    "    w = pyro.sample(\"w\", dist.Normal(torch.zeros(n_predictors),torch.ones(n_predictors)))\n",
    "    b = pyro.sample(\"b\", dist.Normal(0.,1.))\n",
    "    yhat = (w*predictors).sum(dim=1) + b\n",
    "    sigma = pyro.sample(\"sigma\", dist.Normal(0.,0.5))\n",
    "    \n",
    "    with pyro.plate(\"data\", len(rain)):\n",
    "        y = pyro.sample(\"y\", dist.Normal(yhat, sigma), obs=rain)\n",
    "\n",
    "kernel = NUTS(sydney_mlr_model_2)\n",
    "mcmc = MCMC(kernel, num_samples=50, warmup_steps=100)\n",
    "mcmc.run(rain, predictors_stacked)"
   ]
  },
  {
   "cell_type": "code",
   "execution_count": 15,
   "metadata": {},
   "outputs": [
    {
     "name": "stdout",
     "output_type": "stream",
     "text": [
      "dict_keys(['w', 'b', 'sigma'])\n",
      "\n",
      "                mean       std    median      5.0%     95.0%     n_eff     r_hat\n",
      "      w[0]      0.36      0.31      0.31     -0.12      0.77     42.21      1.04\n",
      "      w[1]     -0.60      0.22     -0.58     -0.94     -0.27     24.21      1.05\n",
      "      w[2]      0.17      0.06      0.17      0.08      0.25     29.31      0.98\n",
      "      w[3]     -0.06      0.07     -0.07     -0.14      0.06     37.75      0.98\n",
      "      w[4]      0.52      0.29      0.52      0.05      0.99     30.41      0.99\n",
      "      w[5]      0.37      0.26      0.34     -0.04      0.72     34.23      1.05\n",
      "         b     -0.04      0.99     -0.10     -1.72      1.55     21.79      1.06\n",
      "     sigma      6.05      0.20      6.04      5.77      6.41     34.52      0.98\n",
      "\n",
      "Number of divergences: 0\n"
     ]
    }
   ],
   "source": [
    "print(mcmc.get_samples().keys())\n",
    "mcmc.summary()"
   ]
  },
  {
   "cell_type": "markdown",
   "metadata": {},
   "source": [
    "## Logistic regression\n",
    "\n"
   ]
  },
  {
   "cell_type": "code",
   "execution_count": 63,
   "metadata": {},
   "outputs": [
    {
     "name": "stdout",
     "output_type": "stream",
     "text": [
      "['No' 'Yes'] ---> [0 1]\n"
     ]
    },
    {
     "name": "stderr",
     "output_type": "stream",
     "text": [
      "/home/ginevracoal/.local/lib/python3.6/site-packages/pandas/core/generic.py:6746: SettingWithCopyWarning: \n",
      "A value is trying to be set on a copy of a slice from a DataFrame\n",
      "\n",
      "See the caveats in the documentation: https://pandas.pydata.org/pandas-docs/stable/user_guide/indexing.html#returning-a-view-versus-a-copy\n",
      "  self._update_inplace(new_data)\n"
     ]
    }
   ],
   "source": [
    "sydney_data = data.loc[data[\"Location\"]==\"Sydney\"]\n",
    "print(sydney_data[\"RainTomorrow\"].unique(), end=\" ---> \")\n",
    "sydney_data['RainTomorrow'].replace({'No': 0, 'Yes': 1}, inplace = True)\n",
    "print(sydney_data[\"RainTomorrow\"].unique())"
   ]
  },
  {
   "cell_type": "code",
   "execution_count": 69,
   "metadata": {},
   "outputs": [
    {
     "name": "stdout",
     "output_type": "stream",
     "text": [
      "x_train.shape = torch.Size([1352, 6]) \n",
      "y_train.shape = torch.Size([1352])\n"
     ]
    }
   ],
   "source": [
    "log_reg_data = sydney_data[[\"Rainfall\",\"Humidity3pm\",\"Cloud3pm\",\"WindSpeed3pm\",\n",
    "                            \"Evaporation\",\"Pressure3pm\",\"RainTomorrow\"]]\n",
    "\n",
    "# choose predictors and normalize data\n",
    "df = log_reg_data[[\"Rainfall\",\"Humidity3pm\",\"Cloud3pm\",\"WindSpeed3pm\",\n",
    "                   \"Evaporation\",\"Pressure3pm\"]]\n",
    "df = (df-df.min())/(df.max()-df.min())\n",
    "features = torch.stack([torch.tensor(df[colname].values) for colname in df], dim=1)\n",
    "\n",
    "# labels we want to predict\n",
    "labels = torch.tensor(log_reg_data[\"RainTomorrow\"].values, dtype=torch.double)\n",
    "\n",
    "# train-test split\n",
    "k = int(0.8 * len(log_reg_data))\n",
    "x_train, y_train = features[:k], labels[:k]\n",
    "x_test, y_test = features[k:], labels[k:]\n",
    "\n",
    "print(\"x_train.shape =\", x_train.shape,\"\\ny_train.shape =\", y_train.shape)"
   ]
  },
  {
   "cell_type": "code",
   "execution_count": 70,
   "metadata": {},
   "outputs": [
    {
     "name": "stderr",
     "output_type": "stream",
     "text": [
      "Sample: 100%|██████████| 300/300 [00:12, 24.77it/s, step size=1.20e-01, acc. prob=0.933]\n"
     ]
    }
   ],
   "source": [
    "def log_reg_model(x, y):\n",
    "    n_predictors = len(x[1])\n",
    "    \n",
    "    w = pyro.sample(\"w\", dist.Normal(torch.zeros(n_predictors),torch.ones(n_predictors)))\n",
    "    b = pyro.sample(\"b\", dist.Normal(0.,1.))\n",
    "    \n",
    "    # non-linearity\n",
    "    yhat = torch.sigmoid((w*x).sum(dim=1) + b)\n",
    "    \n",
    "    with pyro.plate(\"data\", len(x)):\n",
    "        # sampling 0-1 labels from Bernoulli distribution\n",
    "        y = pyro.sample(\"y\", dist.Bernoulli(yhat), obs=y)\n",
    "\n",
    "kernel = NUTS(log_reg_model, jit_compile=True, ignore_jit_warnings=True)\n",
    "mcmc = MCMC(kernel, num_samples=100, warmup_steps=200)\n",
    "mcmc.run(x_train, y_train)"
   ]
  },
  {
   "cell_type": "code",
   "execution_count": 72,
   "metadata": {},
   "outputs": [
    {
     "name": "stdout",
     "output_type": "stream",
     "text": [
      "test accuracy = 82.25%\n"
     ]
    }
   ],
   "source": [
    "w = mcmc.get_samples()[\"w\"].mean(0)\n",
    "b = mcmc.get_samples()[\"b\"].mean()\n",
    "\n",
    "def predict_class(x):\n",
    "    out = torch.sigmoid((w * x).sum(dim=1) + b)\n",
    "    return (out>0.5)\n",
    "\n",
    "correct_predictions = (predict_class(x_test) == y_test).sum().item()\n",
    "print(f\"test accuracy = {correct_predictions/len(x_test)*100:.2f}%\")"
   ]
  }
 ],
 "metadata": {
  "kernelspec": {
   "display_name": "Python 3",
   "language": "python",
   "name": "python3"
  },
  "language_info": {
   "codemirror_mode": {
    "name": "ipython",
    "version": 3
   },
   "file_extension": ".py",
   "mimetype": "text/x-python",
   "name": "python",
   "nbconvert_exporter": "python",
   "pygments_lexer": "ipython3",
   "version": "3.6.9"
  }
 },
 "nbformat": 4,
 "nbformat_minor": 2
}
