{
 "cells": [
  {
   "cell_type": "code",
   "execution_count": 42,
   "metadata": {},
   "outputs": [],
   "source": [
    "import pyro\n",
    "import torch\n",
    "import pyro.distributions as dist\n",
    "import pyro.optim as optim\n",
    "from pyro.infer import MCMC, HMC, NUTS\n",
    "import pandas as pd \n",
    "import seaborn as sns\n",
    "import matplotlib.pyplot as plt\n",
    "sns.set_style(\"darkgrid\")\n",
    "figsize=(10,4)\n",
    "pyro.set_rng_seed(3)"
   ]
  },
  {
   "cell_type": "markdown",
   "metadata": {},
   "source": [
    "## Bayesian linear regression\n",
    "\n",
    "The goal of Bayesian linear regression is to fit a linear function\n",
    "\n",
    "$$y=w x+b+\\epsilon$$\n",
    "\n",
    "to a given dataset $D=\\{(x_i,y_i)\\}_{i=1,\\ldots,N}$, by providing posterior probability distributions for the parameters, instead of simple point estimates. The **learnable parameters** are the weights matrix $w$ and the bias vector $b$, while $\\epsilon$ is the **observation noise**.\n",
    "\n",
    "We are going to use just NUTS inference in this notebook, with the aim of focusing our attention on how the different models are built."
   ]
  },
  {
   "cell_type": "markdown",
   "metadata": {},
   "source": [
    "**Regression from synthetic data**\n",
    "\n",
    "In the following example we first generate synthetic data according to the equation \n",
    "\n",
    "$$y=2 x +3 + \\mathcal{N}(0,2^2)$$\n",
    "\n",
    "and then infer the distribution of $w$ and $b$."
   ]
  },
  {
   "cell_type": "code",
   "execution_count": 43,
   "metadata": {},
   "outputs": [
    {
     "data": {
      "image/png": "[encoded data removed]",
      "text/plain": [
       "<Figure size 720x288 with 1 Axes>"
      ]
     },
     "metadata": {},
     "output_type": "display_data"
    }
   ],
   "source": [
    "def generate_data():\n",
    "    # set equally spaced x values between -5 and 5\n",
    "    x_tensor = torch.arange(-5, 5, 0.2)\n",
    "    \n",
    "    # generate the corresponding y according to the equation\n",
    "    y = []\n",
    "    for x in x_tensor:\n",
    "        noise = pyro.sample(\"noise\", dist.Normal(torch.tensor(0.), torch.tensor(2)))\n",
    "        y.append(2. * x + .3 + noise)\n",
    "    \n",
    "    # transform list of tensors to tensor\n",
    "    y_tensor = torch.stack(y)\n",
    "    \n",
    "    return x_tensor, y_tensor\n",
    "\n",
    "# generated data\n",
    "x, y = generate_data()\n",
    "\n",
    "fig, ax = plt.subplots(figsize=figsize)\n",
    "ax.set(xlabel=\"x\", ylabel=\"y\")\n",
    "sns.scatterplot(x, y);"
   ]
  },
  {
   "cell_type": "markdown",
   "metadata": {},
   "source": [
    "We set normal priors on the learnable parameters $w, b\\sim\\mathcal{N}(0,1)$ and a uniformly distributed std for the gaussian noise on $\\hat{y}$\n",
    "\n",
    "\\begin{align*}\n",
    "\\hat{y}&= w x + b\\\\\n",
    "\\sigma &\\sim \\mathcal{U}(0,1)\\\\\n",
    "y &\\sim \\mathcal{N}(\\hat{y},\\sigma^2)\n",
    "\\end{align*}\n",
    "\n",
    "then run inference on $(x,y)$ data."
   ]
  },
  {
   "cell_type": "code",
   "execution_count": 44,
   "metadata": {},
   "outputs": [
    {
     "name": "stderr",
     "output_type": "stream",
     "text": [
      "Sample: 100%|██████████| 300/300 [00:06, 45.20it/s, step size=7.57e-01, acc. prob=0.941]\n"
     ]
    }
   ],
   "source": [
    "def blr_model(x, y):\n",
    "    \n",
    "    w = pyro.sample(\"w\", dist.Normal(0., 1.))\n",
    "    b = pyro.sample(\"b\", dist.Normal(0., 1.))\n",
    "    \n",
    "    y_hat = w * x + b\n",
    "    sigma = pyro.sample(\"sigma\", dist.Uniform(0., 1.))\n",
    "    \n",
    "    with pyro.plate(\"data\", len(x)):    \n",
    "        y = pyro.sample(\"y\", dist.Normal(y_hat, sigma), obs=y)\n",
    "        \n",
    "kernel = NUTS(blr_model)\n",
    "mcmc = MCMC(kernel, num_samples=100, warmup_steps=200)\n",
    "mcmc.run(x,y)\n",
    "posterior_samples = mcmc.get_samples()"
   ]
  },
  {
   "cell_type": "markdown",
   "metadata": {},
   "source": [
    "We can now extract our posterior estimates and plot the linear fit corresponding to $x$ and $y$ observations."
   ]
  },
  {
   "cell_type": "code",
   "execution_count": 46,
   "metadata": {},
   "outputs": [
    {
     "name": "stdout",
     "output_type": "stream",
     "text": [
      "\n",
      "estimated w = 1.9211616516113281\n",
      "estimated b = 0.29073765873908997\n"
     ]
    },
    {
     "data": {
      "image/png": "[encoded data removed]",
      "text/plain": [
       "<Figure size 720x288 with 1 Axes>"
      ]
     },
     "metadata": {},
     "output_type": "display_data"
    }
   ],
   "source": [
    "# extract posterior estimates\n",
    "w = posterior_samples[\"w\"].mean()\n",
    "b = posterior_samples[\"b\"].mean()\n",
    "print(\"\\nestimated w =\", w.item())\n",
    "print(\"estimated b =\", b.item())\n",
    "\n",
    "# plot regression fit\n",
    "fig, ax = plt.subplots(figsize=figsize)\n",
    "ax = sns.scatterplot(x, y)\n",
    "ax.set(xlabel=\"x\", ylabel=\"y\")\n",
    "sns.lineplot(x, w * x + b, color=\"k\");"
   ]
  },
  {
   "cell_type": "markdown",
   "metadata": {},
   "source": [
    "## Multiple linear regression\n",
    "\n",
    "Multiple linear regression uses several explanatory variables $x_i$ to predict the outcome of the response variable $y$\n",
    "\n",
    "$$ y=w_0 x_0+\\ldots+w_k x_k + b + \\epsilon$$\n",
    "\n",
    "assuming there is a noise $\\epsilon$ in the observations."
   ]
  },
  {
   "cell_type": "markdown",
   "metadata": {},
   "source": [
    "**Rain in Australia**\n",
    "\n",
    "In this example we are using a dataset containing daily weather observations in Australian weather stations: https://www.kaggle.com/jsphyg/weather-dataset-rattle-package"
   ]
  },
  {
   "cell_type": "code",
   "execution_count": 49,
   "metadata": {},
   "outputs": [
    {
     "name": "stdout",
     "output_type": "stream",
     "text": [
      "<class 'pandas.core.frame.DataFrame'>\n",
      "Int64Index: 56420 entries, 5939 to 139112\n",
      "Data columns (total 24 columns):\n",
      " #   Column         Non-Null Count  Dtype  \n",
      "---  ------         --------------  -----  \n",
      " 0   Date           56420 non-null  object \n",
      " 1   Location       56420 non-null  object \n",
      " 2   MinTemp        56420 non-null  float64\n",
      " 3   MaxTemp        56420 non-null  float64\n",
      " 4   Rainfall       56420 non-null  float64\n",
      " 5   Evaporation    56420 non-null  float64\n",
      " 6   Sunshine       56420 non-null  float64\n",
      " 7   WindGustDir    56420 non-null  object \n",
      " 8   WindGustSpeed  56420 non-null  float64\n",
      " 9   WindDir9am     56420 non-null  object \n",
      " 10  WindDir3pm     56420 non-null  object \n",
      " 11  WindSpeed9am   56420 non-null  float64\n",
      " 12  WindSpeed3pm   56420 non-null  float64\n",
      " 13  Humidity9am    56420 non-null  float64\n",
      " 14  Humidity3pm    56420 non-null  float64\n",
      " 15  Pressure9am    56420 non-null  float64\n",
      " 16  Pressure3pm    56420 non-null  float64\n",
      " 17  Cloud9am       56420 non-null  float64\n",
      " 18  Cloud3pm       56420 non-null  float64\n",
      " 19  Temp9am        56420 non-null  float64\n",
      " 20  Temp3pm        56420 non-null  float64\n",
      " 21  RainToday      56420 non-null  object \n",
      " 22  RISK_MM        56420 non-null  float64\n",
      " 23  RainTomorrow   56420 non-null  object \n",
      "dtypes: float64(17), object(7)\n",
      "memory usage: 10.8+ MB\n"
     ]
    }
   ],
   "source": [
    "# load data from csv and remove NA values\n",
    "data = pd.read_csv('data/weatherAUS.csv').dropna()\n",
    "data.info()"
   ]
  },
  {
   "cell_type": "markdown",
   "metadata": {},
   "source": [
    "The target variable in our MLR model is the amount of rainfall recorded for the day in Sydney and we wish to infer the parameters corresponding to the following predictors\n",
    "\n",
    "$$\n",
    "\\text{Rainfall}=w_0\\cdot\\text{MinTemp}+w_1\\cdot\\text{MaxTemp}+w_2\\cdot\\text{Humidity9am}+\\\\\n",
    "w_3\\cdot\\text{Humidity3pm}+w_4\\cdot\\text{Cloud9am}+w_5\\cdot\\text{Cloud3pm}+b + \\epsilon\n",
    "$$"
   ]
  },
  {
   "cell_type": "code",
   "execution_count": 50,
   "metadata": {},
   "outputs": [
    {
     "data": {
      "text/html": [
       "<div>\n",
       "<style scoped>\n",
       "    .dataframe tbody tr th:only-of-type {\n",
       "        vertical-align: middle;\n",
       "    }\n",
       "\n",
       "    .dataframe tbody tr th {\n",
       "        vertical-align: top;\n",
       "    }\n",
       "\n",
       "    .dataframe thead th {\n",
       "        text-align: right;\n",
       "    }\n",
       "</style>\n",
       "<table border=\"1\" class=\"dataframe\">\n",
       "  <thead>\n",
       "    <tr style=\"text-align: right;\">\n",
       "      <th></th>\n",
       "      <th>Rainfall</th>\n",
       "      <th>MinTemp</th>\n",
       "      <th>MaxTemp</th>\n",
       "      <th>Humidity9am</th>\n",
       "      <th>Humidity3pm</th>\n",
       "      <th>Cloud9am</th>\n",
       "      <th>Cloud3pm</th>\n",
       "    </tr>\n",
       "  </thead>\n",
       "  <tbody>\n",
       "    <tr>\n",
       "      <th>30487</th>\n",
       "      <td>0.2</td>\n",
       "      <td>12.9</td>\n",
       "      <td>20.3</td>\n",
       "      <td>70.0</td>\n",
       "      <td>57.0</td>\n",
       "      <td>3.0</td>\n",
       "      <td>1.0</td>\n",
       "    </tr>\n",
       "    <tr>\n",
       "      <th>30488</th>\n",
       "      <td>0.0</td>\n",
       "      <td>13.3</td>\n",
       "      <td>21.5</td>\n",
       "      <td>75.0</td>\n",
       "      <td>58.0</td>\n",
       "      <td>2.0</td>\n",
       "      <td>5.0</td>\n",
       "    </tr>\n",
       "    <tr>\n",
       "      <th>30489</th>\n",
       "      <td>0.0</td>\n",
       "      <td>15.3</td>\n",
       "      <td>23.0</td>\n",
       "      <td>70.0</td>\n",
       "      <td>63.0</td>\n",
       "      <td>1.0</td>\n",
       "      <td>4.0</td>\n",
       "    </tr>\n",
       "    <tr>\n",
       "      <th>30493</th>\n",
       "      <td>0.2</td>\n",
       "      <td>12.9</td>\n",
       "      <td>26.7</td>\n",
       "      <td>73.0</td>\n",
       "      <td>56.0</td>\n",
       "      <td>1.0</td>\n",
       "      <td>5.0</td>\n",
       "    </tr>\n",
       "    <tr>\n",
       "      <th>30494</th>\n",
       "      <td>0.0</td>\n",
       "      <td>14.8</td>\n",
       "      <td>23.8</td>\n",
       "      <td>76.0</td>\n",
       "      <td>69.0</td>\n",
       "      <td>2.0</td>\n",
       "      <td>7.0</td>\n",
       "    </tr>\n",
       "  </tbody>\n",
       "</table>\n",
       "</div>"
      ],
      "text/plain": [
       "       Rainfall  MinTemp  MaxTemp  Humidity9am  Humidity3pm  Cloud9am  \\\n",
       "30487       0.2     12.9     20.3         70.0         57.0       3.0   \n",
       "30488       0.0     13.3     21.5         75.0         58.0       2.0   \n",
       "30489       0.0     15.3     23.0         70.0         63.0       1.0   \n",
       "30493       0.2     12.9     26.7         73.0         56.0       1.0   \n",
       "30494       0.0     14.8     23.8         76.0         69.0       2.0   \n",
       "\n",
       "       Cloud3pm  \n",
       "30487       1.0  \n",
       "30488       5.0  \n",
       "30489       4.0  \n",
       "30493       5.0  \n",
       "30494       7.0  "
      ]
     },
     "execution_count": 50,
     "metadata": {},
     "output_type": "execute_result"
    }
   ],
   "source": [
    "# extract Sydney data \n",
    "sydney_data = data.loc[data[\"Location\"]==\"Sydney\"]\n",
    "\n",
    "# select the first 100 observations \n",
    "mlr_data = sydney_data[[\"Rainfall\",\"MinTemp\",\"MaxTemp\",\"Humidity9am\",\n",
    "                        \"Humidity3pm\",\"Cloud9am\",\"Cloud3pm\"]][:100]\n",
    "\n",
    "mlr_data.head()"
   ]
  },
  {
   "cell_type": "markdown",
   "metadata": {},
   "source": [
    "We need to convert data into torch tensors before passing it to our pyro model `sydney_mlr_model`."
   ]
  },
  {
   "cell_type": "code",
   "execution_count": 53,
   "metadata": {},
   "outputs": [],
   "source": [
    "# dataset columns to torch tensors\n",
    "rain = torch.tensor(sydney_data[\"Rainfall\"].values)\n",
    "predictors = [torch.tensor(sydney_data[column].values) \n",
    "                           for column in [\"MinTemp\",\"MaxTemp\",\"Humidity9am\",\n",
    "                                         \"Humidity3pm\",\"Cloud9am\",\"Cloud3pm\"]]"
   ]
  },
  {
   "cell_type": "markdown",
   "metadata": {},
   "source": [
    "We set gaussian priors on all the parameters involved in this regression problem."
   ]
  },
  {
   "cell_type": "code",
   "execution_count": 54,
   "metadata": {},
   "outputs": [],
   "source": [
    "# modelling rain in terms of the predictors\n",
    "def sydney_mlr_model(rain, predictors):\n",
    "    \n",
    "    # sample weights\n",
    "    yhat = 0.\n",
    "    for i, predictor in enumerate(predictors):\n",
    "        w = pyro.sample(f\"w_{i}\", dist.Normal(0.,1.))\n",
    "        yhat += w * predictor\n",
    "    b = pyro.sample(\"b\", dist.Normal(0.,1.))\n",
    "    yhat += b\n",
    "    \n",
    "    # observations noise\n",
    "    sigma = pyro.sample(\"sigma\", dist.Normal(0.,0.5))\n",
    "    \n",
    "    # condition on the observations\n",
    "    with pyro.plate(\"data\", len(rain)):\n",
    "        y = pyro.sample(\"y\", dist.Normal(yhat, sigma), obs=rain)"
   ]
  },
  {
   "cell_type": "code",
   "execution_count": 55,
   "metadata": {},
   "outputs": [
    {
     "name": "stderr",
     "output_type": "stream",
     "text": [
      "Sample: 100%|██████████| 150/150 [02:14,  1.12it/s, step size=1.84e-02, acc. prob=0.982]\n"
     ]
    }
   ],
   "source": [
    "kernel = NUTS(sydney_mlr_model)\n",
    "mcmc = MCMC(kernel, num_samples=50, warmup_steps=100)\n",
    "mcmc.run(rain, predictors)"
   ]
  },
  {
   "cell_type": "code",
   "execution_count": 56,
   "metadata": {},
   "outputs": [
    {
     "name": "stdout",
     "output_type": "stream",
     "text": [
      "\n",
      "                mean       std    median      5.0%     95.0%     n_eff     r_hat\n",
      "       w_0      0.14      0.07      0.15      0.04      0.26     27.28      1.00\n",
      "       w_1     -0.32      0.06     -0.33     -0.38     -0.21     17.13      1.03\n",
      "       w_2      0.08      0.02      0.08      0.06      0.12     68.98      0.98\n",
      "       w_3      0.04      0.02      0.04      0.01      0.07     64.59      0.99\n",
      "       w_4      0.34      0.11      0.35      0.15      0.48     44.93      1.01\n",
      "       w_5      0.07      0.12      0.09     -0.22      0.19     46.46      1.07\n",
      "         b     -1.15      0.39     -1.03     -1.89     -0.62      4.67      1.17\n",
      "     sigma      7.24      0.11      7.22      7.06      7.40     75.71      1.00\n",
      "\n",
      "Number of divergences: 0\n"
     ]
    }
   ],
   "source": [
    "mcmc.summary()"
   ]
  },
  {
   "cell_type": "markdown",
   "metadata": {},
   "source": [
    "Boxplots are particularly useful for visualizing the posterior parameter estimates."
   ]
  },
  {
   "cell_type": "code",
   "execution_count": 57,
   "metadata": {},
   "outputs": [
    {
     "data": {
      "image/png": "[encoded data removed]",
      "text/plain": [
       "<Figure size 720x288 with 1 Axes>"
      ]
     },
     "metadata": {},
     "output_type": "display_data"
    }
   ],
   "source": [
    "fig, ax = plt.subplots(figsize=figsize)\n",
    "posterior_samples_df = pd.DataFrame.from_dict(mcmc.get_samples()).iloc[:,0:7]\n",
    "ax = sns.boxplot(data=posterior_samples_df, orient=\"h\",  palette=\"Blues\");"
   ]
  },
  {
   "cell_type": "markdown",
   "metadata": {},
   "source": [
    "**Matrix representation of MLR**\n",
    "\n",
    "You could alternatively define a pyro model wich is equivalent to the previous one, by stacking all the predictors together and providing a (trivial) matrix representation of the MLR model\n",
    "\n",
    "$$ y = \\mathbf{w}\\cdot\\mathbf{x}+b+\\epsilon,$$\n",
    "\n",
    "where $\\mathbf{w}=(w_0,\\ldots,w_k)$ and $\\mathbf{x}=(x_0,\\ldots,x_k)$."
   ]
  },
  {
   "cell_type": "code",
   "execution_count": 75,
   "metadata": {},
   "outputs": [
    {
     "name": "stdout",
     "output_type": "stream",
     "text": [
      "matrix shape = torch.Size([1690, 6])\n"
     ]
    }
   ],
   "source": [
    "# stack all the predictors in a single matrix along the first dimension\n",
    "predictors_stacked = torch.stack(predictors, dim=1)\n",
    "print(\"matrix shape =\", predictors_stacked.shape)"
   ]
  },
  {
   "cell_type": "markdown",
   "metadata": {},
   "source": [
    "`sydney_mlr_model_2` sets a multivariate gaussian prior over $\\mathbf{w}$ and omputes the dot products $\\mathbf{w}\\cdot\\mathbf{x}$ over the whole matrix of predictors."
   ]
  },
  {
   "cell_type": "code",
   "execution_count": 98,
   "metadata": {},
   "outputs": [
    {
     "name": "stderr",
     "output_type": "stream",
     "text": [
      "Sample: 100%|██████████| 150/150 [00:39,  3.78it/s, step size=6.15e-03, acc. prob=0.962]\n"
     ]
    }
   ],
   "source": [
    "def sydney_mlr_model_2(rain, predictors):\n",
    "    n_predictors = len(predictors[1])\n",
    "    \n",
    "    w = pyro.sample(\"w\", dist.Normal(torch.zeros(n_predictors),torch.ones(n_predictors)))\n",
    "    b = pyro.sample(\"b\", dist.Normal(0.,1.))\n",
    "    yhat = (w*predictors).sum(dim=1) + b \n",
    "    sigma = pyro.sample(\"sigma\", dist.Normal(0.,0.5))\n",
    "    \n",
    "    with pyro.plate(\"data\", len(rain)):\n",
    "        y = pyro.sample(\"y\", dist.Normal(yhat, sigma), obs=rain)\n",
    "\n",
    "kernel = NUTS(sydney_mlr_model_2)\n",
    "mcmc = MCMC(kernel, num_samples=50, warmup_steps=100)\n",
    "mcmc.run(rain, predictors_stacked)"
   ]
  },
  {
   "cell_type": "code",
   "execution_count": 99,
   "metadata": {},
   "outputs": [
    {
     "name": "stdout",
     "output_type": "stream",
     "text": [
      "dict_keys(['w', 'b', 'sigma'])\n",
      "\n",
      "                mean       std    median      5.0%     95.0%     n_eff     r_hat\n",
      "      w[0]      0.14      0.08      0.15      0.02      0.27     11.94      1.23\n",
      "      w[1]     -0.32      0.06     -0.34     -0.39     -0.22     10.45      1.30\n",
      "      w[2]      0.09      0.01      0.08      0.07      0.11     17.21      1.07\n",
      "      w[3]      0.04      0.02      0.04      0.01      0.06     34.27      1.11\n",
      "      w[4]      0.32      0.07      0.32      0.21      0.43     42.09      1.04\n",
      "      w[5]      0.09      0.09      0.08     -0.07      0.22     26.77      1.00\n",
      "         b     -1.14      0.58     -1.00     -2.06     -0.24      6.11      1.40\n",
      "     sigma      7.23      0.09      7.23      7.09      7.35     61.92      0.99\n",
      "\n",
      "Number of divergences: 0\n"
     ]
    }
   ],
   "source": [
    "print(mcmc.get_samples().keys())\n",
    "mcmc.summary()"
   ]
  },
  {
   "attachments": {
    "image.png": {
     "image/png": "[encoded data removed]"
    }
   },
   "cell_type": "markdown",
   "metadata": {},
   "source": [
    "## Logistic regression\n",
    "\n",
    "Logistic regression is a **classification algorithm**: it predicts the probability that some given input $x$ belongs to a certain class $y$. \n",
    "This algorithm combines a multiple linear regression $\\mathbf{w}^t\\cdot \\mathbf{x}$ on the predictors with a non-linearity on the output, corresponding to the sigmoid function $$\\sigma(z)=\\frac{1}{1+e^{-z}}, $$ which maps predictions to probability distributions.\n",
    "![image.png](attachment:image.png)\n",
    "<div style=\"color:darkblue\">https://en.wikipedia.org/wiki/Sigmoid_function</div>\n",
    "\n",
    "Our goal in Bayesian logistic regression is to learn the conditional probability \n",
    "\n",
    "$$P(y|\\mathbf{x},\\mathbf{w}) = \\sigma(\\mathbf{w}^t\\cdot\\mathbf{x})=\\frac{1}{1+e^{-(\\mathbf{w}^t\\cdot\\mathbf{x})}}$$\n",
    "\n",
    "by training the model on a dataset of labeled examples $(\\mathbf{x},y)$.\n",
    "\n",
    "\n",
    "\n",
    "\n",
    "\n"
   ]
  },
  {
   "cell_type": "markdown",
   "metadata": {},
   "source": [
    "**Predicting tomorrow's rain**\n",
    "\n",
    "Suppose we wish to predict the binary label `RainTomorrow` from the Australian weather dataset. First, we need to replace the original labels `Yes`/`No` with boolean classification labels."
   ]
  },
  {
   "cell_type": "code",
   "execution_count": 108,
   "metadata": {},
   "outputs": [
    {
     "name": "stdout",
     "output_type": "stream",
     "text": [
      "['No' 'Yes'] ---> [0 1]\n"
     ]
    }
   ],
   "source": [
    "# select Sydney data\n",
    "sydney_data = data.loc[data[\"Location\"]==\"Sydney\"]\n",
    "\n",
    "# replace labels with boolean values\n",
    "print(sydney_data[\"RainTomorrow\"].unique(), end=\" ---> \")\n",
    "sydney_data['RainTomorrow'].replace({'No': 0, 'Yes': 1}, inplace = True)\n",
    "print(sydney_data[\"RainTomorrow\"].unique())\n",
    "\n",
    "# classification labels\n",
    "labels = torch.tensor(log_reg_data[\"RainTomorrow\"].values, dtype=torch.double)"
   ]
  },
  {
   "cell_type": "markdown",
   "metadata": {},
   "source": [
    "Now we specify the set of predictors for our model and normalize the data, in order to guarantee better convergence properties."
   ]
  },
  {
   "cell_type": "code",
   "execution_count": 109,
   "metadata": {},
   "outputs": [
    {
     "data": {
      "text/html": [
       "<div>\n",
       "<style scoped>\n",
       "    .dataframe tbody tr th:only-of-type {\n",
       "        vertical-align: middle;\n",
       "    }\n",
       "\n",
       "    .dataframe tbody tr th {\n",
       "        vertical-align: top;\n",
       "    }\n",
       "\n",
       "    .dataframe thead th {\n",
       "        text-align: right;\n",
       "    }\n",
       "</style>\n",
       "<table border=\"1\" class=\"dataframe\">\n",
       "  <thead>\n",
       "    <tr style=\"text-align: right;\">\n",
       "      <th></th>\n",
       "      <th>Rainfall</th>\n",
       "      <th>Humidity3pm</th>\n",
       "      <th>Cloud3pm</th>\n",
       "      <th>WindSpeed3pm</th>\n",
       "      <th>Evaporation</th>\n",
       "      <th>Pressure3pm</th>\n",
       "    </tr>\n",
       "  </thead>\n",
       "  <tbody>\n",
       "    <tr>\n",
       "      <th>30487</th>\n",
       "      <td>0.2</td>\n",
       "      <td>57.0</td>\n",
       "      <td>1.0</td>\n",
       "      <td>26.0</td>\n",
       "      <td>3.0</td>\n",
       "      <td>1025.6</td>\n",
       "    </tr>\n",
       "    <tr>\n",
       "      <th>30488</th>\n",
       "      <td>0.0</td>\n",
       "      <td>58.0</td>\n",
       "      <td>5.0</td>\n",
       "      <td>28.0</td>\n",
       "      <td>6.6</td>\n",
       "      <td>1022.4</td>\n",
       "    </tr>\n",
       "    <tr>\n",
       "      <th>30489</th>\n",
       "      <td>0.0</td>\n",
       "      <td>63.0</td>\n",
       "      <td>4.0</td>\n",
       "      <td>19.0</td>\n",
       "      <td>5.6</td>\n",
       "      <td>1017.8</td>\n",
       "    </tr>\n",
       "    <tr>\n",
       "      <th>30493</th>\n",
       "      <td>0.2</td>\n",
       "      <td>56.0</td>\n",
       "      <td>5.0</td>\n",
       "      <td>24.0</td>\n",
       "      <td>3.8</td>\n",
       "      <td>1015.0</td>\n",
       "    </tr>\n",
       "    <tr>\n",
       "      <th>30494</th>\n",
       "      <td>0.0</td>\n",
       "      <td>69.0</td>\n",
       "      <td>7.0</td>\n",
       "      <td>26.0</td>\n",
       "      <td>6.8</td>\n",
       "      <td>1014.7</td>\n",
       "    </tr>\n",
       "  </tbody>\n",
       "</table>\n",
       "</div>"
      ],
      "text/plain": [
       "       Rainfall  Humidity3pm  Cloud3pm  WindSpeed3pm  Evaporation  Pressure3pm\n",
       "30487       0.2         57.0       1.0          26.0          3.0       1025.6\n",
       "30488       0.0         58.0       5.0          28.0          6.6       1022.4\n",
       "30489       0.0         63.0       4.0          19.0          5.6       1017.8\n",
       "30493       0.2         56.0       5.0          24.0          3.8       1015.0\n",
       "30494       0.0         69.0       7.0          26.0          6.8       1014.7"
      ]
     },
     "execution_count": 109,
     "metadata": {},
     "output_type": "execute_result"
    }
   ],
   "source": [
    "# select predictors\n",
    "df = sydney_data[[\"Rainfall\",\"Humidity3pm\",\"Cloud3pm\",\"WindSpeed3pm\",\n",
    "                  \"Evaporation\",\"Pressure3pm\"]]\n",
    "df.head()"
   ]
  },
  {
   "cell_type": "code",
   "execution_count": 116,
   "metadata": {},
   "outputs": [
    {
     "data": {
      "text/html": [
       "<div>\n",
       "<style scoped>\n",
       "    .dataframe tbody tr th:only-of-type {\n",
       "        vertical-align: middle;\n",
       "    }\n",
       "\n",
       "    .dataframe tbody tr th {\n",
       "        vertical-align: top;\n",
       "    }\n",
       "\n",
       "    .dataframe thead th {\n",
       "        text-align: right;\n",
       "    }\n",
       "</style>\n",
       "<table border=\"1\" class=\"dataframe\">\n",
       "  <thead>\n",
       "    <tr style=\"text-align: right;\">\n",
       "      <th></th>\n",
       "      <th>Rainfall</th>\n",
       "      <th>Humidity3pm</th>\n",
       "      <th>Cloud3pm</th>\n",
       "      <th>WindSpeed3pm</th>\n",
       "      <th>Evaporation</th>\n",
       "      <th>Pressure3pm</th>\n",
       "    </tr>\n",
       "  </thead>\n",
       "  <tbody>\n",
       "    <tr>\n",
       "      <th>30487</th>\n",
       "      <td>0.002119</td>\n",
       "      <td>0.552941</td>\n",
       "      <td>0.125</td>\n",
       "      <td>0.521739</td>\n",
       "      <td>0.163043</td>\n",
       "      <td>0.752381</td>\n",
       "    </tr>\n",
       "    <tr>\n",
       "      <th>30488</th>\n",
       "      <td>0.000000</td>\n",
       "      <td>0.564706</td>\n",
       "      <td>0.625</td>\n",
       "      <td>0.565217</td>\n",
       "      <td>0.358696</td>\n",
       "      <td>0.676190</td>\n",
       "    </tr>\n",
       "    <tr>\n",
       "      <th>30489</th>\n",
       "      <td>0.000000</td>\n",
       "      <td>0.623529</td>\n",
       "      <td>0.500</td>\n",
       "      <td>0.369565</td>\n",
       "      <td>0.304348</td>\n",
       "      <td>0.566667</td>\n",
       "    </tr>\n",
       "    <tr>\n",
       "      <th>30493</th>\n",
       "      <td>0.002119</td>\n",
       "      <td>0.541176</td>\n",
       "      <td>0.625</td>\n",
       "      <td>0.478261</td>\n",
       "      <td>0.206522</td>\n",
       "      <td>0.500000</td>\n",
       "    </tr>\n",
       "    <tr>\n",
       "      <th>30494</th>\n",
       "      <td>0.000000</td>\n",
       "      <td>0.694118</td>\n",
       "      <td>0.875</td>\n",
       "      <td>0.521739</td>\n",
       "      <td>0.369565</td>\n",
       "      <td>0.492857</td>\n",
       "    </tr>\n",
       "  </tbody>\n",
       "</table>\n",
       "</div>"
      ],
      "text/plain": [
       "       Rainfall  Humidity3pm  Cloud3pm  WindSpeed3pm  Evaporation  Pressure3pm\n",
       "30487  0.002119     0.552941     0.125      0.521739     0.163043     0.752381\n",
       "30488  0.000000     0.564706     0.625      0.565217     0.358696     0.676190\n",
       "30489  0.000000     0.623529     0.500      0.369565     0.304348     0.566667\n",
       "30493  0.002119     0.541176     0.625      0.478261     0.206522     0.500000\n",
       "30494  0.000000     0.694118     0.875      0.521739     0.369565     0.492857"
      ]
     },
     "execution_count": 116,
     "metadata": {},
     "output_type": "execute_result"
    }
   ],
   "source": [
    "# dataset normalization\n",
    "df = (df-df.min())/(df.max()-df.min())\n",
    "df.head()"
   ]
  },
  {
   "cell_type": "markdown",
   "metadata": {},
   "source": [
    "Finally we stack the dataframe columns in a single torch tensor and perform a train-test split on the data:\n",
    "- **train data** - 80% of the labeled observations will be used to perfom inference on our model\n",
    "- **test data** - the remaining 20% will be used for testing the correctness of posterior predictions "
   ]
  },
  {
   "cell_type": "code",
   "execution_count": 119,
   "metadata": {},
   "outputs": [
    {
     "name": "stdout",
     "output_type": "stream",
     "text": [
      "x_train.shape = torch.Size([1352, 6]) \n",
      "y_train.shape = torch.Size([1352])\n",
      "\n",
      "x_test.shape = torch.Size([338, 6]) \n",
      "y_test.shape = torch.Size([338])\n"
     ]
    }
   ],
   "source": [
    "# torch tensor of features\n",
    "features = torch.stack([torch.tensor(df[colname].values) for colname in df], dim=1)\n",
    "\n",
    "# train-test split\n",
    "k = int(0.8 * len(log_reg_data))\n",
    "x_train, y_train = features[:k], labels[:k]\n",
    "x_test, y_test = features[k:], labels[k:]\n",
    "\n",
    "print(\"x_train.shape =\", x_train.shape,\"\\ny_train.shape =\", y_train.shape)\n",
    "print(\"\\nx_test.shape =\", x_test.shape,\"\\ny_test.shape =\", y_test.shape)"
   ]
  },
  {
   "cell_type": "markdown",
   "metadata": {},
   "source": [
    "Now we can define our pyro model and perform inference on the training data. Notice that we sample classification labels from a **Bernoulli distribution**, because we need a binary outcomes."
   ]
  },
  {
   "cell_type": "code",
   "execution_count": 28,
   "metadata": {},
   "outputs": [
    {
     "name": "stderr",
     "output_type": "stream",
     "text": [
      "Sample: 100%|██████████| 300/300 [00:13, 22.52it/s, step size=1.40e-01, acc. prob=0.919]\n"
     ]
    }
   ],
   "source": [
    "def log_reg_model(x, y):\n",
    "    n_predictors = len(x[1])\n",
    "    \n",
    "    w = pyro.sample(\"w\", dist.Normal(torch.zeros(n_predictors), torch.ones(n_predictors)))\n",
    "    b = pyro.sample(\"b\", dist.Normal(0.,1.))\n",
    "    \n",
    "    # non-linearity\n",
    "    yhat = torch.sigmoid((w*x).sum(dim=1) + b)\n",
    "    \n",
    "    with pyro.plate(\"data\", len(x)):\n",
    "        # sampling 0-1 labels from Bernoulli distribution\n",
    "        y = pyro.sample(\"y\", dist.Bernoulli(yhat), obs=y)\n",
    "\n",
    "kernel = NUTS(log_reg_model, jit_compile=True, ignore_jit_warnings=True)\n",
    "mcmc = MCMC(kernel, num_samples=100, warmup_steps=200)\n",
    "mcmc.run(x_train, y_train)"
   ]
  },
  {
   "cell_type": "markdown",
   "metadata": {},
   "source": [
    "Our Bayesian logistic regression function returns a probability score between 0 and 1 on each input point $x$, which is the output of the sigmoid function. \n",
    "\n",
    "In order to map this value to a discrete class, `predict_class()` uses a **threshold value** of 0.5 to decide whether $x$ belongs to class $0$ or $1$. "
   ]
  },
  {
   "cell_type": "code",
   "execution_count": 126,
   "metadata": {},
   "outputs": [],
   "source": [
    "w = mcmc.get_samples()[\"w\"].mean(0)\n",
    "b = mcmc.get_samples()[\"b\"].mean()\n",
    "\n",
    "def predict_class(x):\n",
    "    out = torch.sigmoid((w * x).sum(dim=1) + b)\n",
    "    return (out>0.5)"
   ]
  },
  {
   "cell_type": "markdown",
   "metadata": {},
   "source": [
    "\n",
    "Finally, we can count the **test accuracy** of our model, which is the percentage of correct predictions on test data."
   ]
  },
  {
   "cell_type": "code",
   "execution_count": 127,
   "metadata": {},
   "outputs": [
    {
     "name": "stdout",
     "output_type": "stream",
     "text": [
      "test accuracy = 73.96%\n"
     ]
    }
   ],
   "source": [
    "correct_predictions = (predict_class(x_test) == y_test).sum().item()\n",
    "\n",
    "print(f\"test accuracy = {correct_predictions/len(x_test)*100:.2f}%\")"
   ]
  },
  {
   "cell_type": "markdown",
   "metadata": {},
   "source": [
    "The Bayesian logistic regression model can be easily extended to the **multi-class classification** case."
   ]
  }
 ],
 "metadata": {
  "kernelspec": {
   "display_name": "Python 3",
   "language": "python",
   "name": "python3"
  },
  "language_info": {
   "codemirror_mode": {
    "name": "ipython",
    "version": 3
   },
   "file_extension": ".py",
   "mimetype": "text/x-python",
   "name": "python",
   "nbconvert_exporter": "python",
   "pygments_lexer": "ipython3",
   "version": "3.6.9"
  }
 },
 "nbformat": 4,
 "nbformat_minor": 2
}
