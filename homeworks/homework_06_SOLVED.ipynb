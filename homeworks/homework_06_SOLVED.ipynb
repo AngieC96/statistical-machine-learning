{
 "cells": [
  {
   "cell_type": "markdown",
   "metadata": {},
   "source": [
    "# Homework 06"
   ]
  },
  {
   "cell_type": "markdown",
   "metadata": {},
   "source": [
    "SOLVED by ANGELA CARRARO"
   ]
  },
  {
   "cell_type": "markdown",
   "metadata": {},
   "source": [
    "## Exercise 1\n",
    "\n",
    "Poisson regression is a Generalized Linear Model, used to model count data. It takes the form\n",
    "\n",
    "$$\\mathbb{E}(\\mu|x)=\\exp(w_1\\,x_1+\\ldots+w_k\\,x_k+b),$$\n",
    "\n",
    "where the observed counts $y$ are drawn from a Poisson distribution on the expected counts: \n",
    "\n",
    "$$y_i \\sim \\text{Poisson}(\\mu_i).$$\n",
    "\n",
    "1. Download and import Load the smoking dataset from: [https://data.princeton.edu/wws509/datasets/#smoking](https://data.princeton.edu/wws509/datasets/#smoking). Then perform a train-test split on the data;\n",
    "2. Fit a Poisson bayesian regression model using the number of deaths as the response variable and the other columns as the explanatory variables;\n",
    "3. Evaluate the regression fit on test data using MAE and MSE error metrics."
   ]
  },
  {
   "cell_type": "markdown",
   "metadata": {},
   "source": [
    "**Solution.**\n",
    "\n"
   ]
  },
  {
   "cell_type": "code",
   "execution_count": 1,
   "metadata": {},
   "outputs": [],
   "source": [
    "import os\n",
    "import math\n",
    "import pandas as pd\n",
    "import numpy as np\n",
    "from sklearn import gaussian_process\n",
    "from matplotlib import pyplot as plt\n",
    "# import matplotlib.pyplot as plt\n",
    "import matplotlib as mt\n",
    "import seaborn as sns\n",
    "\n",
    "import pyro\n",
    "import torch\n",
    "import pyro.distributions as dist\n",
    "import pyro.optim as optim\n",
    "from pyro.infer import SVI, Trace_ELBO, TraceEnum_ELBO\n",
    "from pyro.infer import Predictive\n",
    "import torch.distributions.constraints as constraints\n",
    "\n",
    "sns.set_style(\"darkgrid\")\n",
    "figsize=(10,4)\n",
    "pyro.set_rng_seed(0)"
   ]
  },
  {
   "cell_type": "markdown",
   "metadata": {},
   "source": [
    "#### Smoking and Lung Cancer\n",
    "\n",
    "This dataset has information from a Canadian study of mortality by age and smoking status.\n",
    "\n",
    "The file in \"raw\" format, `smoking.raw`, has four columns:\n",
    "\n",
    "- age at the start of follow-up: in five-year age groups coded 1 to 9 for 40-44, 45-49, 50-54, 55-59, 60-64, 65-69, 70-74, 75-79, 80+.\n",
    "- smoking status: coded 1 = never smoked, 2 = smoked cigars or pipe only, 3 = smoked cigarettes and cigar or pipe, and 4 = smoked cigarettes only,\n",
    "- population: number of male pensioners followed, and\n",
    "- deaths: number of deaths in a six-year period."
   ]
  },
  {
   "cell_type": "code",
   "execution_count": 2,
   "metadata": {},
   "outputs": [
    {
     "data": {
      "text/html": [
       "<div>\n",
       "<style scoped>\n",
       "    .dataframe tbody tr th:only-of-type {\n",
       "        vertical-align: middle;\n",
       "    }\n",
       "\n",
       "    .dataframe tbody tr th {\n",
       "        vertical-align: top;\n",
       "    }\n",
       "\n",
       "    .dataframe thead th {\n",
       "        text-align: right;\n",
       "    }\n",
       "</style>\n",
       "<table border=\"1\" class=\"dataframe\">\n",
       "  <thead>\n",
       "    <tr style=\"text-align: right;\">\n",
       "      <th></th>\n",
       "      <th>0</th>\n",
       "      <th>1</th>\n",
       "      <th>2</th>\n",
       "      <th>3</th>\n",
       "    </tr>\n",
       "  </thead>\n",
       "  <tbody>\n",
       "    <tr>\n",
       "      <th>0</th>\n",
       "      <td>1</td>\n",
       "      <td>1</td>\n",
       "      <td>656</td>\n",
       "      <td>18</td>\n",
       "    </tr>\n",
       "    <tr>\n",
       "      <th>1</th>\n",
       "      <td>2</td>\n",
       "      <td>1</td>\n",
       "      <td>359</td>\n",
       "      <td>22</td>\n",
       "    </tr>\n",
       "    <tr>\n",
       "      <th>2</th>\n",
       "      <td>3</td>\n",
       "      <td>1</td>\n",
       "      <td>249</td>\n",
       "      <td>19</td>\n",
       "    </tr>\n",
       "    <tr>\n",
       "      <th>3</th>\n",
       "      <td>4</td>\n",
       "      <td>1</td>\n",
       "      <td>632</td>\n",
       "      <td>55</td>\n",
       "    </tr>\n",
       "    <tr>\n",
       "      <th>4</th>\n",
       "      <td>5</td>\n",
       "      <td>1</td>\n",
       "      <td>1067</td>\n",
       "      <td>117</td>\n",
       "    </tr>\n",
       "  </tbody>\n",
       "</table>\n",
       "</div>"
      ],
      "text/plain": [
       "   0  1     2    3\n",
       "0  1  1   656   18\n",
       "1  2  1   359   22\n",
       "2  3  1   249   19\n",
       "3  4  1   632   55\n",
       "4  5  1  1067  117"
      ]
     },
     "execution_count": 2,
     "metadata": {},
     "output_type": "execute_result"
    }
   ],
   "source": [
    "# Load the dataset\n",
    "data_smoking = pd.read_table(os.path.join(\"data\", \"smoking.raw\"),  header=None)\n",
    "data_smoking.head()"
   ]
  },
  {
   "cell_type": "code",
   "execution_count": 3,
   "metadata": {},
   "outputs": [
    {
     "data": {
      "text/html": [
       "<div>\n",
       "<style scoped>\n",
       "    .dataframe tbody tr th:only-of-type {\n",
       "        vertical-align: middle;\n",
       "    }\n",
       "\n",
       "    .dataframe tbody tr th {\n",
       "        vertical-align: top;\n",
       "    }\n",
       "\n",
       "    .dataframe thead th {\n",
       "        text-align: right;\n",
       "    }\n",
       "</style>\n",
       "<table border=\"1\" class=\"dataframe\">\n",
       "  <thead>\n",
       "    <tr style=\"text-align: right;\">\n",
       "      <th></th>\n",
       "      <th>age</th>\n",
       "      <th>smoke</th>\n",
       "      <th>pop</th>\n",
       "      <th>dead</th>\n",
       "    </tr>\n",
       "  </thead>\n",
       "  <tbody>\n",
       "    <tr>\n",
       "      <th>0</th>\n",
       "      <td>1</td>\n",
       "      <td>1</td>\n",
       "      <td>656</td>\n",
       "      <td>18</td>\n",
       "    </tr>\n",
       "    <tr>\n",
       "      <th>1</th>\n",
       "      <td>2</td>\n",
       "      <td>1</td>\n",
       "      <td>359</td>\n",
       "      <td>22</td>\n",
       "    </tr>\n",
       "    <tr>\n",
       "      <th>2</th>\n",
       "      <td>3</td>\n",
       "      <td>1</td>\n",
       "      <td>249</td>\n",
       "      <td>19</td>\n",
       "    </tr>\n",
       "    <tr>\n",
       "      <th>3</th>\n",
       "      <td>4</td>\n",
       "      <td>1</td>\n",
       "      <td>632</td>\n",
       "      <td>55</td>\n",
       "    </tr>\n",
       "    <tr>\n",
       "      <th>4</th>\n",
       "      <td>5</td>\n",
       "      <td>1</td>\n",
       "      <td>1067</td>\n",
       "      <td>117</td>\n",
       "    </tr>\n",
       "    <tr>\n",
       "      <th>5</th>\n",
       "      <td>6</td>\n",
       "      <td>1</td>\n",
       "      <td>897</td>\n",
       "      <td>170</td>\n",
       "    </tr>\n",
       "    <tr>\n",
       "      <th>6</th>\n",
       "      <td>7</td>\n",
       "      <td>1</td>\n",
       "      <td>668</td>\n",
       "      <td>179</td>\n",
       "    </tr>\n",
       "    <tr>\n",
       "      <th>7</th>\n",
       "      <td>8</td>\n",
       "      <td>1</td>\n",
       "      <td>361</td>\n",
       "      <td>120</td>\n",
       "    </tr>\n",
       "    <tr>\n",
       "      <th>8</th>\n",
       "      <td>9</td>\n",
       "      <td>1</td>\n",
       "      <td>274</td>\n",
       "      <td>120</td>\n",
       "    </tr>\n",
       "    <tr>\n",
       "      <th>9</th>\n",
       "      <td>1</td>\n",
       "      <td>2</td>\n",
       "      <td>145</td>\n",
       "      <td>2</td>\n",
       "    </tr>\n",
       "  </tbody>\n",
       "</table>\n",
       "</div>"
      ],
      "text/plain": [
       "   age  smoke   pop  dead\n",
       "0    1      1   656    18\n",
       "1    2      1   359    22\n",
       "2    3      1   249    19\n",
       "3    4      1   632    55\n",
       "4    5      1  1067   117\n",
       "5    6      1   897   170\n",
       "6    7      1   668   179\n",
       "7    8      1   361   120\n",
       "8    9      1   274   120\n",
       "9    1      2   145     2"
      ]
     },
     "execution_count": 3,
     "metadata": {},
     "output_type": "execute_result"
    }
   ],
   "source": [
    "data_smoking.columns = [\"age\", \"smoke\", \"pop\", \"dead\"]\n",
    "data_smoking.head(10)"
   ]
  },
  {
   "cell_type": "code",
   "execution_count": 4,
   "metadata": {},
   "outputs": [
    {
     "name": "stdout",
     "output_type": "stream",
     "text": [
      "<class 'pandas.core.frame.DataFrame'>\n",
      "RangeIndex: 36 entries, 0 to 35\n",
      "Data columns (total 4 columns):\n",
      " #   Column  Non-Null Count  Dtype\n",
      "---  ------  --------------  -----\n",
      " 0   age     36 non-null     int64\n",
      " 1   smoke   36 non-null     int64\n",
      " 2   pop     36 non-null     int64\n",
      " 3   dead    36 non-null     int64\n",
      "dtypes: int64(4)\n",
      "memory usage: 1.2 KB\n"
     ]
    }
   ],
   "source": [
    "data_smoking.info()"
   ]
  },
  {
   "cell_type": "code",
   "execution_count": 5,
   "metadata": {},
   "outputs": [
    {
     "data": {
      "text/plain": [
       "tensor([[1.0000e+00, 1.0000e+00, 6.5600e+02],\n",
       "        [2.0000e+00, 1.0000e+00, 3.5900e+02],\n",
       "        [3.0000e+00, 1.0000e+00, 2.4900e+02],\n",
       "        [4.0000e+00, 1.0000e+00, 6.3200e+02],\n",
       "        [5.0000e+00, 1.0000e+00, 1.0670e+03]])"
      ]
     },
     "execution_count": 5,
     "metadata": {},
     "output_type": "execute_result"
    }
   ],
   "source": [
    "# dataset columns to torch tensors\n",
    "deaths = torch.tensor(data_smoking[\"dead\"].values, dtype=torch.float)\n",
    "predictors = torch.stack([torch.tensor(data_smoking[column].values, dtype=torch.float)\n",
    "                           for column in [\"age\",\"smoke\",\"pop\"]], 1)\n",
    "predictors[:5]"
   ]
  },
  {
   "cell_type": "code",
   "execution_count": 6,
   "metadata": {},
   "outputs": [
    {
     "data": {
      "text/plain": [
       "tensor([[0.0000e+00, 0.0000e+00, 1.0825e-01],\n",
       "        [1.6526e-04, 0.0000e+00, 5.9164e-02],\n",
       "        [3.3052e-04, 0.0000e+00, 4.0985e-02],\n",
       "        [4.9579e-04, 0.0000e+00, 1.0428e-01],\n",
       "        [6.6105e-04, 0.0000e+00, 1.7617e-01]])"
      ]
     },
     "execution_count": 6,
     "metadata": {},
     "output_type": "execute_result"
    }
   ],
   "source": [
    "# dataset normalization\n",
    "predictors = (predictors - predictors.min())/(predictors.max() - predictors.min())\n",
    "predictors[:5]"
   ]
  },
  {
   "cell_type": "markdown",
   "metadata": {},
   "source": [
    "Now we perform a train-test split on the data:\n",
    "- **train data** - 80% of the observations will be used to perfom inference on our model\n",
    "- **test data** - the remaining 20% will be used for testing the correctness of posterior predictions "
   ]
  },
  {
   "cell_type": "code",
   "execution_count": 7,
   "metadata": {},
   "outputs": [
    {
     "name": "stdout",
     "output_type": "stream",
     "text": [
      "x_train.shape = torch.Size([28, 3]) \n",
      "y_train.shape = torch.Size([28])\n",
      "\n",
      "x_test.shape = torch.Size([8, 3]) \n",
      "y_test.shape = torch.Size([8])\n"
     ]
    }
   ],
   "source": [
    "import random as rd\n",
    "\n",
    "rd.seed(0)\n",
    "\n",
    "k = int(0.8 * len(data_smoking))\n",
    "kk = rd.sample(range(len(predictors)), k)\n",
    "xx = list(range(len(predictors)))\n",
    "for i in range(k):\n",
    "    xx.remove(kk[i])\n",
    "\n",
    "x_train, y_train = predictors[kk], deaths[kk]\n",
    "x_test, y_test = predictors[xx], deaths[xx]\n",
    "\n",
    "print(\"x_train.shape =\", x_train.shape,\"\\ny_train.shape =\", y_train.shape)\n",
    "print(\"\\nx_test.shape =\", x_test.shape,\"\\ny_test.shape =\", y_test.shape)"
   ]
  },
  {
   "cell_type": "markdown",
   "metadata": {},
   "source": [
    "Now we fit a Poisson Bayesian regression model using the number of deaths as the response variable and the other columns as the explanatory variables.\n",
    "\n",
    "Poisson regression is a Generalized Linear Model, used to model count data. It takes the form\n",
    "\n",
    "$$\\mathbb{E}(\\mu|x)=\\exp(w_1\\,x_1+\\ldots+w_k\\,x_k+b),$$\n",
    "\n",
    "where the observed counts $y$ are drawn from a Poisson distribution on the expected counts: \n",
    "\n",
    "$$y_i \\sim \\text{Poisson}(\\mu_i).$$\n",
    "\n",
    "We set a normal prior on $w$, a Log-Normal on the bias term $b$\n",
    "\n",
    "\\begin{align*}\n",
    "w&\\sim\\mathcal{N}(0,1)\\\\\n",
    "b&\\sim\\text{LogNormal}(0,1)\\\\\n",
    "\\mu&= \\exp(w x + b)\\\\\n",
    "y &\\sim \\text{Poisson}(\\mu).\n",
    "\\end{align*}"
   ]
  },
  {
   "cell_type": "code",
   "execution_count": 8,
   "metadata": {},
   "outputs": [],
   "source": [
    "# delete previously inferred params from pyro.param_store()\n",
    "pyro.clear_param_store()"
   ]
  },
  {
   "cell_type": "code",
   "execution_count": 9,
   "metadata": {},
   "outputs": [],
   "source": [
    "# modelling rain in terms of the predictors\n",
    "def smoking_model(predictors, deaths):\n",
    "\n",
    "    n_observations, n_predictors = predictors.shape\n",
    "    \n",
    "    # sample weights\n",
    "    w = pyro.sample(\"w\", dist.Normal(20 * torch.rand(n_predictors), 5 * torch.ones(n_predictors)))\n",
    "    # w = pyro.sample(\"w\", dist.Gamma(70 * torch.ones(n_predictors), 20 * torch.ones(n_predictors)))\n",
    "    b = pyro.sample(\"b\", dist.LogNormal(torch.zeros(1), torch.ones(1)))\n",
    "    \n",
    "    mu = torch.exp(((w*predictors).sum(dim=1) + b))\n",
    "    \n",
    "    # condition on the observations\n",
    "    with pyro.plate(\"deaths\", len(deaths)):\n",
    "        pyro.sample(\"obs\", dist.Poisson(mu), obs=deaths)\n",
    "        \n",
    "def smoking_guide(predictors, deaths=None):\n",
    "    \n",
    "    n_observations, n_predictors = predictors.shape\n",
    "        \n",
    "    # w_loc = pyro.param(\"w_loc\", torch.rand(n_predictors), constraint=constraints.positive)\n",
    "    w_loc = pyro.param(\"w_loc\", torch.rand(n_predictors))\n",
    "    w_scale = pyro.param(\"w_scale\", torch.rand(n_predictors), constraint=constraints.positive)\n",
    "\n",
    "    #w = pyro.sample(\"w\", dist.Gamma(70 * w_loc, 20* w_scale))\n",
    "    w = pyro.sample(\"w\", dist.Normal(w_loc, w_scale))\n",
    "    \n",
    "    b_loc = pyro.param(\"b_loc\", torch.rand(1))\n",
    "    b_scale = pyro.param(\"b_scale\", torch.rand(1), constraint=constraints.positive)\n",
    "    \n",
    "    b = pyro.sample(\"b\", dist.LogNormal(b_loc, b_scale))\n",
    "    \n",
    "    \n",
    "smoking_svi = SVI(model=smoking_model, guide=smoking_guide, \n",
    "              optim=optim.ClippedAdam({'lr' : 0.0005}), \n",
    "              loss=Trace_ELBO()) "
   ]
  },
  {
   "cell_type": "code",
   "execution_count": 10,
   "metadata": {},
   "outputs": [
    {
     "name": "stdout",
     "output_type": "stream",
     "text": [
      "Step 0 : loss = 823.1546600120408\n",
      "Step 2000 : loss = 360.4965447826045\n",
      "Step 4000 : loss = 127.26087361574173\n",
      "Step 6000 : loss = 88.09165933302471\n",
      "Step 8000 : loss = 73.12630366853305\n",
      "Step 10000 : loss = 70.39570542318481\n"
     ]
    }
   ],
   "source": [
    "losses = []\n",
    "for step in range(10001):\n",
    "    loss = smoking_svi.step(x_train, y_train)/len(x_train)\n",
    "    losses.append(loss)\n",
    "    if step % 2000 == 0:\n",
    "        print(f\"Step {step} : loss = {loss}\")"
   ]
  },
  {
   "cell_type": "code",
   "execution_count": 11,
   "metadata": {},
   "outputs": [
    {
     "data": {
      "image/png": "[encoded data removed]",
      "text/plain": [
       "<Figure size 720x288 with 1 Axes>"
      ]
     },
     "metadata": {},
     "output_type": "display_data"
    }
   ],
   "source": [
    "fig, ax = plt.subplots(figsize=figsize)\n",
    "ax.plot(losses)\n",
    "ax.set_title(\"ELBO loss\");"
   ]
  },
  {
   "cell_type": "markdown",
   "metadata": {},
   "source": [
    "We can extract the inferred parameters as follows."
   ]
  },
  {
   "cell_type": "code",
   "execution_count": 12,
   "metadata": {},
   "outputs": [
    {
     "name": "stdout",
     "output_type": "stream",
     "text": [
      "Inferred params: ['w_loc', 'w_scale', 'b_loc', 'b_scale']\n",
      "\n",
      "w_0 = 2.82778955\n",
      "w_1 = 2.32619619\n",
      "w_2 = 2.21726561\n",
      "b = 1.56204975\n"
     ]
    }
   ],
   "source": [
    "print(\"Inferred params:\", list(pyro.get_param_store().keys()), end=\"\\n\\n\")\n",
    "\n",
    "# w_i and b posterior mean\n",
    "inferred_w = pyro.get_param_store()[\"w_loc\"]\n",
    "inferred_b = pyro.get_param_store()[\"b_loc\"]\n",
    "\n",
    "for i,w in enumerate(inferred_w):\n",
    "    print(f\"w_{i} = {w.item():.8f}\")\n",
    "print(f\"b = {inferred_b.item():.8f}\")"
   ]
  },
  {
   "cell_type": "markdown",
   "metadata": {},
   "source": [
    "**Posterior predictive distribution**\n",
    "\n",
    "We can use the `Predictive` utility class, corresponding to the posterior predictive distribution, to evaluate our model on test data. Here we compute some summary statistics (mean, std and quantiles) on $100$ samples from the posterior predictive:"
   ]
  },
  {
   "cell_type": "code",
   "execution_count": 13,
   "metadata": {},
   "outputs": [
    {
     "name": "stdout",
     "output_type": "stream",
     "text": [
      "Sampled parameter = w\n",
      "\n",
      "       mean       std        5%       50%       95%\n",
      "0  2.851047  1.346063  1.052813  2.767219  5.252923\n",
      "1  2.692300  2.818954 -1.825420  2.503240  7.616545\n",
      "2  2.242400  0.251535  1.843345  2.246257  2.607991\n",
      "\n",
      "Sampled parameter = b\n",
      "\n",
      "       mean       std        5%       50%       95%\n",
      "0  4.775244  0.120554  4.584116  4.783401  4.961614\n",
      "\n"
     ]
    }
   ],
   "source": [
    "# print latent params quantile information\n",
    "def summary(samples):\n",
    "    stats = {}\n",
    "    for par_name, values in samples.items():\n",
    "        marginal = pd.DataFrame(values)\n",
    "        percentiles=[.05, 0.5, 0.95]\n",
    "        describe = marginal.describe(percentiles).transpose()\n",
    "        stats[par_name] = describe[[\"mean\", \"std\", \"5%\", \"50%\", \"95%\"]]\n",
    "    return stats\n",
    "\n",
    "# define the posterior predictive\n",
    "predictive = Predictive(model=smoking_model, guide=smoking_guide, num_samples=100, return_sites=(\"w\",\"b\"))\n",
    "\n",
    "# get posterior samples on test data\n",
    "svi_samples = {k: v.detach().numpy() for k, v in predictive(x_test, y_test).items()}\n",
    "\n",
    "# show summary statistics\n",
    "for key, value in summary(svi_samples).items():\n",
    "    print(f\"Sampled parameter = {key}\\n\\n{value}\\n\")"
   ]
  },
  {
   "cell_type": "markdown",
   "metadata": {},
   "source": [
    "Now we evaluate the regression fit on test data using MAE and MSE error metrics."
   ]
  },
  {
   "cell_type": "code",
   "execution_count": 14,
   "metadata": {},
   "outputs": [
    {
     "name": "stdout",
     "output_type": "stream",
     "text": [
      "Predicted labels:  tensor([ 6.0621,  6.7676,  5.8274, 14.4863, 26.5619, 43.9017, 15.8388,  7.4151],\n",
      "       grad_fn=<ExpBackward>)\n",
      "True labels:  tensor([  18.,  173.,  253.,  169.,  576., 1001.,  514.,  432.])\n",
      "MAE = 376.14239501953125\n",
      "MSE = 219887.59375\n"
     ]
    }
   ],
   "source": [
    "# compute predictions using the inferred paramters\n",
    "# we use the mean of the distribution as predictor\n",
    "y_pred = torch.exp((inferred_w * x_test).sum(1) + inferred_b)\n",
    "\n",
    "print(\"Predicted labels: \", y_pred)\n",
    "print(\"True labels: \", y_test)\n",
    "\n",
    "print(\"MAE =\", torch.nn.L1Loss()(y_test, y_pred).item())\n",
    "print(\"MSE =\", torch.nn.MSELoss()(y_test, y_pred).item())"
   ]
  },
  {
   "cell_type": "markdown",
   "metadata": {},
   "source": [
    "### Another model"
   ]
  },
  {
   "cell_type": "markdown",
   "metadata": {},
   "source": [
    "We can see that the prediction is not much accurate. Let's try to manipulate the model, adding the interaction terms among the predicotrs."
   ]
  },
  {
   "cell_type": "code",
   "execution_count": 15,
   "metadata": {},
   "outputs": [
    {
     "data": {
      "text/plain": [
       "tensor([[1.0000e+00, 1.0000e+00, 6.5600e+02, 1.0000e+00, 6.5600e+02, 6.5600e+02,\n",
       "         6.5600e+02],\n",
       "        [2.0000e+00, 1.0000e+00, 3.5900e+02, 2.0000e+00, 7.1800e+02, 3.5900e+02,\n",
       "         7.1800e+02],\n",
       "        [3.0000e+00, 1.0000e+00, 2.4900e+02, 3.0000e+00, 7.4700e+02, 2.4900e+02,\n",
       "         7.4700e+02],\n",
       "        [4.0000e+00, 1.0000e+00, 6.3200e+02, 4.0000e+00, 2.5280e+03, 6.3200e+02,\n",
       "         2.5280e+03],\n",
       "        [5.0000e+00, 1.0000e+00, 1.0670e+03, 5.0000e+00, 5.3350e+03, 1.0670e+03,\n",
       "         5.3350e+03]])"
      ]
     },
     "execution_count": 15,
     "metadata": {},
     "output_type": "execute_result"
    }
   ],
   "source": [
    "# dataset columns to torch tensors\n",
    "deaths = torch.tensor(data_smoking[\"dead\"].values, dtype=torch.float)\n",
    "predictors = torch.stack([torch.tensor(data_smoking[column].values, dtype=torch.float)\n",
    "                           for column in [\"age\",\"smoke\",\"pop\"]], 1)\n",
    "predictors = torch.stack([predictors[:,0], predictors[:,1], predictors[:,2],\n",
    "                                      predictors[:,0]*predictors[:,1],\n",
    "                                      predictors[:,0]*predictors[:,2],\n",
    "                                      predictors[:,1]*predictors[:,2],\n",
    "                                      predictors[:,0]*predictors[:,1]*predictors[:,2]],1)\n",
    "predictors[:5, :]"
   ]
  },
  {
   "cell_type": "code",
   "execution_count": 16,
   "metadata": {},
   "outputs": [
    {
     "data": {
      "text/plain": [
       "tensor([[0.0000e+00, 0.0000e+00, 7.2153e-03, 0.0000e+00, 7.2153e-03, 7.2153e-03,\n",
       "         7.2153e-03],\n",
       "        [1.1016e-05, 0.0000e+00, 3.9436e-03, 1.1016e-05, 7.8983e-03, 3.9436e-03,\n",
       "         7.8983e-03],\n",
       "        [2.2032e-05, 0.0000e+00, 2.7319e-03, 2.2032e-05, 8.2178e-03, 2.7319e-03,\n",
       "         8.2178e-03],\n",
       "        [3.3047e-05, 0.0000e+00, 6.9509e-03, 3.3047e-05, 2.7837e-02, 6.9509e-03,\n",
       "         2.7837e-02],\n",
       "        [4.4063e-05, 0.0000e+00, 1.1743e-02, 4.4063e-05, 5.8758e-02, 1.1743e-02,\n",
       "         5.8758e-02]])"
      ]
     },
     "execution_count": 16,
     "metadata": {},
     "output_type": "execute_result"
    }
   ],
   "source": [
    "# dataset normalization\n",
    "predictors = (predictors - predictors.min())/(predictors.max() - predictors.min())\n",
    "predictors[:5]"
   ]
  },
  {
   "cell_type": "code",
   "execution_count": 17,
   "metadata": {},
   "outputs": [
    {
     "name": "stdout",
     "output_type": "stream",
     "text": [
      "x_train.shape = torch.Size([28, 7]) \n",
      "y_train.shape = torch.Size([28])\n",
      "\n",
      "x_test.shape = torch.Size([8, 7]) \n",
      "y_test.shape = torch.Size([8])\n"
     ]
    }
   ],
   "source": [
    "x_train, y_train = predictors[kk], deaths[kk]\n",
    "x_test, y_test = predictors[xx], deaths[xx]\n",
    "\n",
    "print(\"x_train.shape =\", x_train.shape,\"\\ny_train.shape =\", y_train.shape)\n",
    "print(\"\\nx_test.shape =\", x_test.shape,\"\\ny_test.shape =\", y_test.shape)"
   ]
  },
  {
   "cell_type": "code",
   "execution_count": 18,
   "metadata": {},
   "outputs": [],
   "source": [
    "# delete previously inferred params from pyro.param_store()\n",
    "pyro.clear_param_store()"
   ]
  },
  {
   "cell_type": "code",
   "execution_count": 19,
   "metadata": {},
   "outputs": [
    {
     "name": "stdout",
     "output_type": "stream",
     "text": [
      "Step 0 : loss = 637.5884595800724\n",
      "Step 2000 : loss = 237.31431161505836\n",
      "Step 4000 : loss = 63.50911176630429\n",
      "Step 6000 : loss = 39.4544186762401\n",
      "Step 8000 : loss = 33.7751430954252\n",
      "Step 10000 : loss = 28.554901983056748\n"
     ]
    }
   ],
   "source": [
    "losses = []\n",
    "for step in range(10001):\n",
    "    loss = smoking_svi.step(x_train, y_train)/len(x_train)\n",
    "    losses.append(loss)\n",
    "    if step % 2000 == 0:\n",
    "        print(f\"Step {step} : loss = {loss}\")"
   ]
  },
  {
   "cell_type": "code",
   "execution_count": 20,
   "metadata": {},
   "outputs": [
    {
     "name": "stdout",
     "output_type": "stream",
     "text": [
      "Inferred params: ['w_loc', 'w_scale', 'b_loc', 'b_scale']\n",
      "\n",
      "w_0 = 3.34316874\n",
      "w_1 = 3.45300436\n",
      "w_2 = 0.94054240\n",
      "w_3 = 3.00234008\n",
      "w_4 = 2.56268573\n",
      "w_5 = 1.75803959\n",
      "w_6 = 1.85872817\n",
      "b = 1.50376582\n"
     ]
    }
   ],
   "source": [
    "print(\"Inferred params:\", list(pyro.get_param_store().keys()), end=\"\\n\\n\")\n",
    "\n",
    "# w_i and b posterior mean\n",
    "inferred_w = pyro.get_param_store()[\"w_loc\"]\n",
    "inferred_b = pyro.get_param_store()[\"b_loc\"]\n",
    "\n",
    "for i,w in enumerate(inferred_w):\n",
    "    print(f\"w_{i} = {w.item():.8f}\")\n",
    "print(f\"b = {inferred_b.item():.8f}\")"
   ]
  },
  {
   "cell_type": "code",
   "execution_count": 21,
   "metadata": {},
   "outputs": [
    {
     "name": "stdout",
     "output_type": "stream",
     "text": [
      "Predicted labels:  tensor([  4.7357,   6.9921,   6.4578,   9.5325,  33.2428, 102.6860,  25.3331,\n",
      "         12.5675], grad_fn=<ExpBackward>)\n",
      "True labels:  tensor([  18.,  173.,  253.,  169.,  576., 1001.,  514.,  432.])\n",
      "MAE = 366.80657958984375\n",
      "MSE = 203777.484375\n"
     ]
    }
   ],
   "source": [
    "# compute predictions using the inferred paramters\n",
    "# we use the mean of the distribution as predictor\n",
    "y_pred = torch.exp((inferred_w * x_test).sum(1) + inferred_b)\n",
    "\n",
    "print(\"Predicted labels: \", y_pred)\n",
    "print(\"True labels: \", y_test)\n",
    "\n",
    "print(\"MAE =\", torch.nn.L1Loss()(y_test, y_pred).item())\n",
    "print(\"MSE =\", torch.nn.MSELoss()(y_test, y_pred).item())"
   ]
  },
  {
   "cell_type": "markdown",
   "metadata": {},
   "source": [
    "Not even adding predictors improves the learning.\n",
    "\n",
    "The most likely problem is that we have too few data to learn the model."
   ]
  },
  {
   "cell_type": "markdown",
   "metadata": {},
   "source": [
    "## Exercise 2\n",
    "\n",
    "The Iris dataset contains petal and sepal length and width for three different types of Iris flowers: Setosa, Versicolour, and Virginica.\n",
    "\n",
    "1. Import the Iris dataset from `sklearn`:\n",
    "```\n",
    "from sklearn import datasets\n",
    "iris = datasets.load_iris()\n",
    "```\n",
    "and perform a train-test split on the data.\n",
    "\n",
    "2. Fit a multinomial bayesian logistic regression model on the four predictors petal length/width and sepal length/width. \n",
    "\n",
    "3. Evaluate your bayesian classifier on test data: compute the overall test accuracy and class-wise accuracy for the three different flower categories."
   ]
  },
  {
   "cell_type": "markdown",
   "metadata": {},
   "source": [
    "**Solution.**"
   ]
  },
  {
   "cell_type": "code",
   "execution_count": 22,
   "metadata": {},
   "outputs": [
    {
     "data": {
      "text/html": [
       "<div>\n",
       "<style scoped>\n",
       "    .dataframe tbody tr th:only-of-type {\n",
       "        vertical-align: middle;\n",
       "    }\n",
       "\n",
       "    .dataframe tbody tr th {\n",
       "        vertical-align: top;\n",
       "    }\n",
       "\n",
       "    .dataframe thead th {\n",
       "        text-align: right;\n",
       "    }\n",
       "</style>\n",
       "<table border=\"1\" class=\"dataframe\">\n",
       "  <thead>\n",
       "    <tr style=\"text-align: right;\">\n",
       "      <th></th>\n",
       "      <th>sepal length (cm)</th>\n",
       "      <th>sepal width (cm)</th>\n",
       "      <th>petal length (cm)</th>\n",
       "      <th>petal width (cm)</th>\n",
       "      <th>Species</th>\n",
       "    </tr>\n",
       "  </thead>\n",
       "  <tbody>\n",
       "    <tr>\n",
       "      <th>0</th>\n",
       "      <td>5.1</td>\n",
       "      <td>3.5</td>\n",
       "      <td>1.4</td>\n",
       "      <td>0.2</td>\n",
       "      <td>setosa</td>\n",
       "    </tr>\n",
       "    <tr>\n",
       "      <th>1</th>\n",
       "      <td>4.9</td>\n",
       "      <td>3.0</td>\n",
       "      <td>1.4</td>\n",
       "      <td>0.2</td>\n",
       "      <td>setosa</td>\n",
       "    </tr>\n",
       "    <tr>\n",
       "      <th>2</th>\n",
       "      <td>4.7</td>\n",
       "      <td>3.2</td>\n",
       "      <td>1.3</td>\n",
       "      <td>0.2</td>\n",
       "      <td>setosa</td>\n",
       "    </tr>\n",
       "    <tr>\n",
       "      <th>3</th>\n",
       "      <td>4.6</td>\n",
       "      <td>3.1</td>\n",
       "      <td>1.5</td>\n",
       "      <td>0.2</td>\n",
       "      <td>setosa</td>\n",
       "    </tr>\n",
       "    <tr>\n",
       "      <th>4</th>\n",
       "      <td>5.0</td>\n",
       "      <td>3.6</td>\n",
       "      <td>1.4</td>\n",
       "      <td>0.2</td>\n",
       "      <td>setosa</td>\n",
       "    </tr>\n",
       "    <tr>\n",
       "      <th>...</th>\n",
       "      <td>...</td>\n",
       "      <td>...</td>\n",
       "      <td>...</td>\n",
       "      <td>...</td>\n",
       "      <td>...</td>\n",
       "    </tr>\n",
       "    <tr>\n",
       "      <th>145</th>\n",
       "      <td>6.7</td>\n",
       "      <td>3.0</td>\n",
       "      <td>5.2</td>\n",
       "      <td>2.3</td>\n",
       "      <td>virginica</td>\n",
       "    </tr>\n",
       "    <tr>\n",
       "      <th>146</th>\n",
       "      <td>6.3</td>\n",
       "      <td>2.5</td>\n",
       "      <td>5.0</td>\n",
       "      <td>1.9</td>\n",
       "      <td>virginica</td>\n",
       "    </tr>\n",
       "    <tr>\n",
       "      <th>147</th>\n",
       "      <td>6.5</td>\n",
       "      <td>3.0</td>\n",
       "      <td>5.2</td>\n",
       "      <td>2.0</td>\n",
       "      <td>virginica</td>\n",
       "    </tr>\n",
       "    <tr>\n",
       "      <th>148</th>\n",
       "      <td>6.2</td>\n",
       "      <td>3.4</td>\n",
       "      <td>5.4</td>\n",
       "      <td>2.3</td>\n",
       "      <td>virginica</td>\n",
       "    </tr>\n",
       "    <tr>\n",
       "      <th>149</th>\n",
       "      <td>5.9</td>\n",
       "      <td>3.0</td>\n",
       "      <td>5.1</td>\n",
       "      <td>1.8</td>\n",
       "      <td>virginica</td>\n",
       "    </tr>\n",
       "  </tbody>\n",
       "</table>\n",
       "<p>150 rows × 5 columns</p>\n",
       "</div>"
      ],
      "text/plain": [
       "     sepal length (cm)  sepal width (cm)  petal length (cm)  petal width (cm)  \\\n",
       "0                  5.1               3.5                1.4               0.2   \n",
       "1                  4.9               3.0                1.4               0.2   \n",
       "2                  4.7               3.2                1.3               0.2   \n",
       "3                  4.6               3.1                1.5               0.2   \n",
       "4                  5.0               3.6                1.4               0.2   \n",
       "..                 ...               ...                ...               ...   \n",
       "145                6.7               3.0                5.2               2.3   \n",
       "146                6.3               2.5                5.0               1.9   \n",
       "147                6.5               3.0                5.2               2.0   \n",
       "148                6.2               3.4                5.4               2.3   \n",
       "149                5.9               3.0                5.1               1.8   \n",
       "\n",
       "       Species  \n",
       "0       setosa  \n",
       "1       setosa  \n",
       "2       setosa  \n",
       "3       setosa  \n",
       "4       setosa  \n",
       "..         ...  \n",
       "145  virginica  \n",
       "146  virginica  \n",
       "147  virginica  \n",
       "148  virginica  \n",
       "149  virginica  \n",
       "\n",
       "[150 rows x 5 columns]"
      ]
     },
     "execution_count": 22,
     "metadata": {},
     "output_type": "execute_result"
    }
   ],
   "source": [
    "from sklearn import datasets\n",
    "iris = datasets.load_iris()\n",
    "iris_df = pd.DataFrame(iris['data'], columns=iris['feature_names']).assign(\n",
    "                                                    Species=iris['target_names'][iris['target']])\n",
    "iris_df"
   ]
  },
  {
   "cell_type": "code",
   "execution_count": 23,
   "metadata": {},
   "outputs": [],
   "source": [
    "# select predictors\n",
    "df = iris_df[iris['feature_names']]\n",
    "# dataset normalization\n",
    "df = (df-df.min())/(df.max()-df.min())\n",
    "df.head()\n",
    "\n",
    "# dataset columns to torch tensor of features/predictors\n",
    "predictors = torch.stack([torch.tensor(df[column].values, dtype=torch.float) for column in df], dim=1)\n",
    "\n",
    "# classification labels\n",
    "labels = torch.tensor(iris[\"target\"], dtype=torch.float)\n",
    "# one hot enconding of the species\n",
    "# labels = torch.eye(n_class)[iris[\"target\"]]\n",
    "\n",
    "# number of different classes\n",
    "n_class = 3"
   ]
  },
  {
   "cell_type": "markdown",
   "metadata": {},
   "source": [
    "Now we perform a train-test split on the data:\n",
    "- **train data** - 80% of the observations will be used to perfom inference on our model\n",
    "- **test data** - the remaining 20% will be used for testing the correctness of posterior predictions\n",
    "\n",
    "Since the data are ordered by species, we have to randomly pick the training set."
   ]
  },
  {
   "cell_type": "code",
   "execution_count": 24,
   "metadata": {},
   "outputs": [
    {
     "name": "stdout",
     "output_type": "stream",
     "text": [
      "x_train.shape = torch.Size([120, 4]) \n",
      "y_train.shape = torch.Size([120])\n",
      "\n",
      "x_test.shape = torch.Size([30, 4]) \n",
      "y_test.shape = torch.Size([30])\n"
     ]
    }
   ],
   "source": [
    "k = int(0.8 * len(labels))\n",
    "kk = rd.sample(range(len(labels)), k)\n",
    "xx = list(range(len(labels)))\n",
    "for i in range(k):\n",
    "    xx.remove(kk[i])\n",
    "\n",
    "x_train, y_train = predictors[kk], labels[kk]\n",
    "x_test, y_test = predictors[xx], labels[xx]\n",
    "\n",
    "print(\"x_train.shape =\", x_train.shape,\"\\ny_train.shape =\", y_train.shape)\n",
    "print(\"\\nx_test.shape =\", x_test.shape,\"\\ny_test.shape =\", y_test.shape)"
   ]
  },
  {
   "cell_type": "code",
   "execution_count": 25,
   "metadata": {},
   "outputs": [],
   "source": [
    "# delete previously inferred params from pyro.param_store()\n",
    "pyro.clear_param_store()\n",
    "\n",
    "def log_reg_model(x, y):\n",
    "    n_observations, n_predictors = x.shape\n",
    "    \n",
    "    w = pyro.sample(\"w\", dist.Normal(torch.zeros(n_predictors, n_class), torch.ones(n_predictors, n_class)))\n",
    "    b = pyro.sample(\"b\", dist.Normal(torch.zeros(1, n_class), torch.ones(1, n_class)))\n",
    "    \n",
    "    # non-linearity\n",
    "    #yhat = torch.nn.functional.softmax(torch.mm(x, w) + b, dim = 1)  # To use Categorical(probs=yhat)\n",
    "    yhat = torch.matmul(x, w) + b # To use Categorical(logits=yhat)\n",
    "    \n",
    "    with pyro.plate(\"data\", n_observations):\n",
    "        y = pyro.sample(\"y\", dist.Categorical(logits=yhat), obs=y)\n",
    "        \n",
    "def log_reg_guide(x, y=None):\n",
    "    \n",
    "    _, n_predictors = x.shape\n",
    "    \n",
    "    w_loc = pyro.param(\"w_loc\", torch.rand(n_predictors, n_class))\n",
    "    w_scale = pyro.param(\"w_scale\", torch.rand(n_predictors, n_class), constraint=constraints.positive)\n",
    "    w = pyro.sample(\"w\", dist.Normal(w_loc, w_scale))\n",
    "    \n",
    "    b_loc = pyro.param(\"b_loc\", torch.rand(1, n_class))\n",
    "    b_scale = pyro.param(\"b_scale\", torch.rand(1, n_class), constraint=constraints.positive)\n",
    "    b = pyro.sample(\"b\", dist.Normal(b_loc, b_scale))\n",
    "\n",
    "    \n",
    "log_reg_svi = SVI(model=log_reg_model, guide=log_reg_guide, \n",
    "              optim=optim.ClippedAdam({'lr' : 0.0002}), \n",
    "              loss=Trace_ELBO())"
   ]
  },
  {
   "cell_type": "code",
   "execution_count": 26,
   "metadata": {},
   "outputs": [
    {
     "name": "stdout",
     "output_type": "stream",
     "text": [
      "Step 0 : loss = 1.1332251886526743\n",
      "Step 4000 : loss = 0.9543459912141165\n",
      "Step 8000 : loss = 0.7534155488014221\n",
      "Step 12000 : loss = 0.726403589049975\n",
      "Step 16000 : loss = 0.665090999007225\n",
      "Step 20000 : loss = 0.7151654491821925\n",
      "Step 24000 : loss = 0.6539112448692321\n",
      "Step 28000 : loss = 0.7528031637271245\n",
      "Step 32000 : loss = 0.6333751072486241\n",
      "Step 36000 : loss = 0.6377806435028712\n",
      "Step 40000 : loss = 0.6886143883069357\n"
     ]
    }
   ],
   "source": [
    "losses = []\n",
    "for step in range(40001):\n",
    "    loss = log_reg_svi.step(x_train, y_train)/len(x_train)\n",
    "    losses.append(loss)\n",
    "    if step % 4000 == 0:\n",
    "        print(f\"Step {step} : loss = {loss}\")"
   ]
  },
  {
   "cell_type": "code",
   "execution_count": 27,
   "metadata": {},
   "outputs": [
    {
     "data": {
      "image/png": "[encoded data removed]",
      "text/plain": [
       "<Figure size 720x288 with 1 Axes>"
      ]
     },
     "metadata": {},
     "output_type": "display_data"
    }
   ],
   "source": [
    "fig, ax = plt.subplots(figsize=figsize)\n",
    "ax.plot(losses)\n",
    "ax.set_title(\"ELBO loss\");"
   ]
  },
  {
   "cell_type": "code",
   "execution_count": 32,
   "metadata": {},
   "outputs": [
    {
     "name": "stdout",
     "output_type": "stream",
     "text": [
      "Predicted w: \n",
      " tensor([[-1.0233e+00, -1.8158e-02,  1.2047e+00],\n",
      "        [ 2.0367e+00, -1.4405e+00, -4.9826e-01],\n",
      "        [-2.3522e+00,  9.3367e-01,  1.5588e+00],\n",
      "        [-2.3578e+00,  1.5424e-03,  2.4097e+00]], requires_grad=True)\n",
      "Predicted b: \n",
      " tensor([[ 1.6804,  1.1383, -1.7021]], requires_grad=True)\n"
     ]
    }
   ],
   "source": [
    "w = pyro.get_param_store()[\"w_loc\"]\n",
    "b = pyro.get_param_store()[\"b_loc\"]\n",
    "print(f\"Predicted w: \\n {w}\")\n",
    "print(f\"Predicted b: \\n {b}\")\n",
    "\n",
    "def predict_class(x):\n",
    "    out = torch.argmax(torch.matmul(x,w)+b,dim=1) \n",
    "    # out = torch.argmax(torch.softmax(torch.matmul(x,w)+b,dim=1),dim=1) # to have probabilities of each class\n",
    "    return out"
   ]
  },
  {
   "cell_type": "code",
   "execution_count": 34,
   "metadata": {},
   "outputs": [
    {
     "name": "stdout",
     "output_type": "stream",
     "text": [
      "test accuracy = 90.00%\n"
     ]
    }
   ],
   "source": [
    "correct_predictions = (predict_class(x_test) == y_test).sum().item()\n",
    "\n",
    "print(f\"test accuracy = {correct_predictions/len(x_test)*100:.2f}%\")"
   ]
  }
 ],
 "metadata": {
  "kernelspec": {
   "display_name": "Python (SML virtualenv)",
   "language": "python",
   "name": "statistical-machine-learning"
  },
  "language_info": {
   "codemirror_mode": {
    "name": "ipython",
    "version": 3
   },
   "file_extension": ".py",
   "mimetype": "text/x-python",
   "name": "python",
   "nbconvert_exporter": "python",
   "pygments_lexer": "ipython3",
   "version": "3.6.9"
  }
 },
 "nbformat": 4,
 "nbformat_minor": 4
}
