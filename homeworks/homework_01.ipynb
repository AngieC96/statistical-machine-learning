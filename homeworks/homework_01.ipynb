{
 "cells": [
  {
   "cell_type": "markdown",
   "metadata": {},
   "source": [
    "## Homework 01"
   ]
  },
  {
   "cell_type": "markdown",
   "metadata": {},
   "source": [
    "### Exercise 1 \n",
    "\n",
    "Show that the gamma distribution is the conjugate prior distribution for the exponential likelihood."
   ]
  },
  {
   "cell_type": "markdown",
   "metadata": {},
   "source": [
    "### Exercise 2\n",
    "Suppose $X_1,...,X_n$ are i.i.d. random variables with density function $f(x|\\sigma) = \\frac{1}{2\\sigma} exp\\big(-\\frac{|x|}{\\sigma}\\big)$.\n",
    "\n",
    "Find the maximum likelihood estimate (MLE) of $\\sigma$."
   ]
  },
  {
   "cell_type": "markdown",
   "metadata": {},
   "source": [
    "### Exercise 3\n",
    "\n",
    "1. Draw the Bayesian Network representing the joint distribution\n",
    "\n",
    "$$P(A,B,C,D,E,F,G,H)=P(A)P(B|A)P(C)P(D|B)P(E)P(F|A)P(G|D,F)P(H|E,B)$$\n",
    "\n",
    "2. Indicate wheter the following statements on conditional independence are True or False and motivate your answer.\n",
    "\n",
    " a. $A\\perp B$\n",
    " \n",
    " b. $A \\perp C$\n",
    " \n",
    " c. $A\\perp D | \\{B, H\\}$\n",
    " \n",
    " d. $A\\perp E | F$\n",
    " \n",
    " e. $G\\perp E | B$\n",
    " \n",
    " f. $F\\perp C| D$\n",
    " \n",
    " g. $E\\perp D | B$\n",
    " \n",
    " h. $C\\perp H | G$"
   ]
  }
 ],
 "metadata": {
  "kernelspec": {
   "display_name": "Python 3",
   "language": "python",
   "name": "python3"
  }
 },
 "nbformat": 4,
 "nbformat_minor": 2
}
