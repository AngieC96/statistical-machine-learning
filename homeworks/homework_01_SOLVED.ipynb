{
 "cells": [
  {
   "cell_type": "markdown",
   "metadata": {},
   "source": [
    "## Homework 01"
   ]
  },
  {
   "cell_type": "markdown",
   "metadata": {},
   "source": [
    "SOLVED by ANGELA CARRARO"
   ]
  },
  {
   "cell_type": "markdown",
   "metadata": {},
   "source": [
    "### Exercise 1\n",
    "\n",
    "Let $Y$ be a random variable taking values in $\\{1,...,N\\}$ and suppose that any value is equally likely, i.e. that $P(Y=j)=\\frac{1}{N}$. \n",
    "\n",
    "Knowing that $\\sum_{j=1}^N j = \\frac{N(N+1)}{2}$, show that $\\mathbb{E}(Y)=\\frac{N+1}{2}$."
   ]
  },
  {
   "cell_type": "markdown",
   "metadata": {},
   "source": [
    "**Solution.**\n",
    "\n",
    "$$\n",
    "\\mathbb{E}(Y) = \\sum_{j=1}^N y_j \\cdot P(Y = j) = \\sum_{j=1}^N j \\cdot \\frac1N =  \\frac1N \\sum_{j=1}^N j = \\frac1N \\cdot \\frac{N(N+1)}2 = \\frac{N+1}2\n",
    "$$"
   ]
  },
  {
   "cell_type": "markdown",
   "metadata": {},
   "source": [
    "### Exercise 2\n",
    "Prove that $\\mathbb{E}(X)=\\mu$ for $X\\sim\\mathcal{N}(\\mu,\\sigma^2)$."
   ]
  },
  {
   "cell_type": "markdown",
   "metadata": {},
   "source": [
    "**Solution.**\n",
    "\n",
    "$$\n",
    "\\mathbb{E}(X) = \\int_{-\\infty}^{+\\infty} x \\cdot f(x) dx = \\int_{-\\infty}^{+\\infty} x \\cdot \\frac{1}{\\sqrt{2\\pi}\\sigma}e^{-\\frac{(x - \\mu)^2}{2\\sigma^2}} dx = \\frac{1}{\\sqrt{2\\pi}\\sigma} \\int_{-\\infty}^{+\\infty} x \\cdot e^{-\\frac{(x - \\mu)^2}{2\\sigma^2}} dx = \n",
    "$$\n",
    "\n",
    "let's substitute using $y = x - \\mu$, so $x = y + \\mu$ and $dx = d(y+\\mu) = dy$, then the integral becames\n",
    "\n",
    "$$\n",
    "= \\frac{1}{\\sqrt{2\\pi}\\sigma} \\int_{-\\infty}^{+\\infty} (y + \\mu) \\cdot e^{-\\frac{y^2}{2\\sigma^2}} dy = \\frac{1}{\\sqrt{2\\pi}\\sigma} \\int_{-\\infty}^{+\\infty} y \\cdot e^{-\\frac{y^2}{2\\sigma^2}} dy + \\frac{1}{\\sqrt{2\\pi}\\sigma} \\int_{-\\infty}^{+\\infty} \\mu \\cdot e^{-\\frac{y^2}{2\\sigma^2}} dy = I_1 + I_2\n",
    "$$\n",
    "\n",
    "Since $I_1$ is an odd integral (because $y \\cdot \\frac{1}{\\sqrt{2\\pi}\\sigma}e^{-\\frac{y^2}{2\\sigma^2}}$ is an odd function) we have that $I_1 = 0$. In fact we can prove it writing\n",
    "\n",
    "$$\n",
    "I_1 = \\int_{-\\infty}^{+\\infty} y \\cdot e^{-\\frac{y^2}{2\\sigma^2}} dy = \\int_{-\\infty}^0 y \\cdot e^{-\\frac{y^2}{2\\sigma^2}} dy  + \\int_0^{+\\infty} y \\cdot e^{-\\frac{y^2}{2\\sigma^2}} dy =\n",
    "$$\n",
    "\n",
    "then we substitute $x = -y$, so $y = -x$, $dy = - dx$, $y = -\\infty \\Leftrightarrow -y = +\\infty \\Leftrightarrow x = +\\infty$ and $y = 0 \\Leftrightarrow -y = 0 \\Leftrightarrow x = 0$, so we have\n",
    "\n",
    "$$\n",
    "= \\int_{+\\infty}^0 -x \\cdot e^{-\\frac{(-x)^2}{2\\sigma^2}} (-dx)  + \\int_0^{+\\infty} y \\cdot e^{-\\frac{y^2}{2\\sigma^2}} dy = \\int_{+\\infty}^0 x \\cdot e^{-\\frac{x^2}{2\\sigma^2}} dx  + \\int_0^{+\\infty} y \\cdot e^{-\\frac{y^2}{2\\sigma^2}} dy = -\\int^{+\\infty}_0 x \\cdot e^{-\\frac{x^2}{2\\sigma^2}} dx  + \\int_0^{+\\infty} y \\cdot e^{-\\frac{y^2}{2\\sigma^2}} dy = 0\n",
    "$$\n",
    "\n",
    "Let's compute $I_2$. We have that ${\\displaystyle \\int_{-\\infty}^{+\\infty} e^{-y^2} dy = \\sqrt{\\pi}}$. Then\n",
    "\n",
    "$$\n",
    "I_2 = \\frac{1}{\\sqrt{2\\pi}\\sigma} \\int_{-\\infty}^{+\\infty} \\mu \\cdot e^{-\\frac{y^2}{2\\sigma^2}} dy = \\frac{\\mu }{\\sqrt{2\\pi}\\sigma} \\int_{-\\infty}^{+\\infty} e^{-\\left(\\frac{y}{\\sqrt{2}\\sigma}\\right)^2} dy = \n",
    "$$\n",
    "\n",
    "we substitute $x = \\frac{y}{\\sqrt{2}\\sigma}$, so $y = \\sqrt{2}\\sigma x$ and $dy = \\sqrt{2}\\sigma dx$, then\n",
    "\n",
    "$$\n",
    "= \\frac{\\mu }{\\sqrt{2\\pi}\\sigma} \\int_{-\\infty}^{+\\infty} e^{-x^2} \\sqrt{2}\\sigma dx = \\frac{\\mu \\sqrt{2}\\sigma}{\\sqrt{2\\pi}\\sigma} \\int_{-\\infty}^{+\\infty} e^{-x^2} dx = \\frac{\\mu}{\\sqrt{\\pi}} \\sqrt{\\pi} = \\mu\n",
    "$$\n",
    "\n",
    "In the end we have that\n",
    "\n",
    "$$\n",
    "\\mathbb{E}(X) =  I_1 + I_2 = 0 + \\mu = \\mu.\n",
    "$$"
   ]
  },
  {
   "cell_type": "markdown",
   "metadata": {},
   "source": [
    "### Exercise 3\n",
    "Let $X$ and $Y$ have discrete joint distribution\n",
    "$$\n",
    "p(x,y) = \n",
    "\\begin{cases}\n",
    "\\frac{1}{30} (x+y) & \\text{for } x = 0,1,2 \\text{ and } y=0,1,2,3\\\\\n",
    "0 & \\text{otherwise}\n",
    "\\end{cases}\n",
    "$$\n",
    "\n",
    "Are $X$ and $Y$ independent?"
   ]
  },
  {
   "cell_type": "markdown",
   "metadata": {},
   "source": [
    "**Solution.**\n",
    "\n",
    "We have that $\\mathcal{X}_X = \\{0, 1, 2\\}$ and $\\mathcal{X}_Y = \\{0, 1, 2, 3\\}$, so we can compute\n",
    "\n",
    "$$\n",
    "p_X(x)=\\sum_{y\\in{\\mathcal{X}_Y}}p_{X,Y}(x,y) = \\sum_{y=0}^3 \\frac{1}{30} (x+y) = \\frac{1}{30} (x+0) + \\frac{1}{30} (x+1) + \\frac{1}{30} (x+2) + \\frac{1}{30} (x+3) = \\frac{1}{30} (x + x+1  + x+2 + x+3) = \\frac{4x + 6}{30} = \\frac{2x + 3}{15}\n",
    "$$\n",
    "\n",
    "and \n",
    "\n",
    "$$\n",
    "p_Y(y)=\\sum_{x\\in{\\mathcal{X}_X}}p_{X,Y}(x,y) = \\sum_{x=0}^2 \\frac{1}{30} (x+y) = \\frac{1}{30} (0+y) + \\frac{1}{30} (1+y) + \\frac{1}{30} (2+y) = \\frac{1}{30} (y + 1+y + 2+y)  = \\frac{3y + 3}{30} = \\frac{y + 1}{10} \n",
    "$$\n",
    "\n",
    "Since\n",
    "\n",
    "$$\n",
    "p_X(x)p_Y(y) = \\frac{2x + 3}{15} \\cdot \\frac{y + 1}{10} = \\frac{(2x + 3)(y + 1)}{150} = \\frac{2xy + 2x + 3y + 3}{150} \\color{red} \\neq \\frac{1}{30} (x+y) = p(x,y)\n",
    "$$\n",
    "\n",
    "the two variables are **not** independent."
   ]
  },
  {
   "cell_type": "markdown",
   "metadata": {},
   "source": [
    "### Exercise 4\n",
    "\n",
    "Let $X$ and $Y$ be two continuos random variables with joint probability density\n",
    "\n",
    "$$\n",
    "f(x,y) = \n",
    "\\begin{cases}\n",
    "24xy & \\text{for } 0<x<1,0<y<1,x+y<1\\\\\n",
    "0 & \\text{otherwise}\n",
    "\\end{cases}\n",
    "$$\n",
    "\n",
    "Find\n",
    "1. the marginal density of Y;\n",
    "2. the conditional density of $X$ given $Y=1/2$.\n"
   ]
  },
  {
   "cell_type": "markdown",
   "metadata": {},
   "source": [
    "**Solution.**\n",
    "\n",
    "1. We have that $\\mathcal{X}_X = (0,1)$ $\\mathcal{X}_Y = (0,1)$, and $x+y < 1$, so $x < 1 - y$, then\n",
    "$$\n",
    "f_Y(y) = \\int_{\\mathcal{X}_X}f_{X,Y}(x,y)dx = \\int_0^{1-y} 24xy dx = 24y \\int_0^{1-y} x dx = 24y \\left. \\left[ \\frac{x^2}2 \\right]\\right|_{x=0}^{1 - y} = 24y \\left( \\frac{(1 - y)^2}2 - 0 \\right) = 12y(1 - y)^2\n",
    "$$\n",
    "\n",
    "2. Since $\\displaystyle f_{Y|X}(y|x)=\\frac{f_{X,Y}(x,y)}{f_X(x)}$, we have that\n",
    "$$\n",
    "f_{X \\mid Y=1/2}(x \\mid y = 1/2) = \\frac{f_{X,Y}(x,y = 1/2)}{f_Y(y=1/2)} = \\frac{24x(1/2)}{12 \\cdot 1/2(1 - 1/2)^2} = \\frac{2x}{(1/2)^2} = 8x\n",
    "$$\n",
    "for $x > 0$ and $x < 1 - 1/2 = 1/2$, so for $0 < x < 1/2$."
   ]
  },
  {
   "cell_type": "markdown",
   "metadata": {},
   "source": [
    "### Exercise 5\n",
    "\n",
    "Let the joint distribution of $X$ and $Y$ be \n",
    "\n",
    "$$f(X,Y) = \\frac{\\Gamma(\\alpha_1+\\alpha_2+\\alpha_3)}{\\Gamma(\\alpha_1)\\Gamma(\\alpha_2)\\Gamma(\\alpha_3)}x^{\\alpha_1-1}y^{\\alpha_2-1}(1-x-y)^{\\alpha_3-1}.$$ \n",
    "\n",
    "Suppose that $0<x<1,0<y<1,x+y<1$ and prove that the marginal distribution of $X$ is a $\\text{Beta}(\\alpha_1,\\alpha_2+\\alpha_3)$."
   ]
  },
  {
   "cell_type": "markdown",
   "metadata": {},
   "source": [
    "**Solution.**\n",
    "\n",
    "The joint distribution $f(X, Y)$ is a bivaratiate Beta distribution, so we know that $\\alpha_1, \\alpha_2, \\alpha_3 > 0$, $0 < x < 1$, $0 < y < 1$ and $x + y < 1$, so $x < 1 - y$.\n",
    "\n",
    "We have that the marginal distribution of $X$ is\n",
    "\n",
    "$$\n",
    "\\begin{align*}\n",
    "f_X(x) &= \\int_{\\mathcal{X}_Y}f_{X,Y}(x,y)dy = \\int_0^{1-x} \\frac{\\Gamma(\\alpha_1 + \\alpha_2 + \\alpha_3)}{\\Gamma(\\alpha_1) \\Gamma(\\alpha_2) \\Gamma(\\alpha_3)} x^{\\alpha_1-1} y^{\\alpha_2-1} (1-x-y)^{\\alpha_3-1} dy \\\\\n",
    "&=  \\frac{\\Gamma(\\alpha_1 + \\alpha_2 + \\alpha_3)}{\\Gamma(\\alpha_1) \\Gamma(\\alpha_2) \\Gamma(\\alpha_3)} x^{\\alpha_1-1} \\cdot \\int_0^{1-x} y^{\\alpha_2 - 1} (1-x-y)^{\\alpha_3 - 1} dy =\n",
    "\\end{align*}\n",
    "$$\n",
    "\n",
    "let's substitute $u(1-x) = y$, so $dy = (1-x) du$ and $y = 0 \\Leftrightarrow u = 0$, $y = 1 - x \\Leftrightarrow u (1-x) = 1 - x \\Leftrightarrow u = 1$\n",
    "\n",
    "$$\n",
    "\\begin{align*}\n",
    "&=  \\frac{\\Gamma(\\alpha_1 + \\alpha_2 + \\alpha_3)}{\\Gamma(\\alpha_1) \\Gamma(\\alpha_2) \\Gamma(\\alpha_3)} x^{\\alpha_1-1} \\cdot \\int_0^1 (u(1-x))^{\\alpha_2 - 1} (1-x-u(1-x))^{\\alpha_3 - 1} (1-x) du \\\\\n",
    "&= \\frac{\\Gamma(\\alpha_1 + \\alpha_2 + \\alpha_3)}{\\Gamma(\\alpha_1) + \\Gamma(\\alpha_2) + \\Gamma(\\alpha_3)} x^{\\alpha_1-1} \\cdot \\int_0^1 u^{\\alpha_2 - 1} (1-x)^{\\alpha_2 - 1} ((1-x)-u(1-x))^{\\alpha_3 - 1} (1-x) du \\\\\n",
    "&= \\frac{\\Gamma(\\alpha_1 + \\alpha_2 + \\alpha_3)}{\\Gamma(\\alpha_1) \\Gamma(\\alpha_2) \\Gamma(\\alpha_3)} x^{\\alpha_1-1} (1-x)^{\\alpha_2} \\cdot \\int_0^1 u^{\\alpha_2} ((1-x)(1-u))^{\\alpha_3 - 1} du \\\\\n",
    "&= \\frac{\\Gamma(\\alpha_1 + \\alpha_2 + \\alpha_3)}{\\Gamma(\\alpha_1) \\Gamma(\\alpha_2) \\Gamma(\\alpha_3)} x^{\\alpha_1-1} (1-x)^{\\alpha_2} (1-x)^{\\alpha_3 - 1} \\cdot \\int_0^1 u^{\\alpha_2 - 1} (1-u)^{\\alpha_3 - 1} du\n",
    "\\end{align*}\n",
    "$$\n",
    "\n",
    "so since ${\\displaystyle \\mathrm {B} (\\alpha ,\\beta) = \\int _{0}^{1}x^{\\alpha -1}(1-x)^{\\beta -1}dx = \\frac{\\Gamma (\\alpha )\\Gamma (\\beta )}{\\Gamma (\\alpha +\\beta )}}$, we have that\n",
    "\n",
    "$$\n",
    "\\begin{align*}\n",
    "&= \\frac{\\Gamma(\\alpha_1 + \\alpha_2 + \\alpha_3)}{\\Gamma(\\alpha_1) \\Gamma(\\alpha_2) \\Gamma(\\alpha_3)} x^{\\alpha_1-1} (1-x)^{\\alpha_2+\\alpha_3 - 1} \\cdot \\frac{\\Gamma (\\alpha_2)\\Gamma (\\alpha_3)}{\\Gamma (\\alpha_2 +\\alpha_3)} \\\\\n",
    "&= \\frac{\\Gamma(\\alpha_1 + \\alpha_2 + \\alpha_3)}{\\Gamma(\\alpha_1) \\Gamma(\\alpha_2+\\alpha_3)} x^{\\alpha_1 - 1} (1-x)^{\\alpha_2 + \\alpha_3 - 1} \\\\\n",
    "&= \\frac{1}{\\mathrm{B}(\\alpha_1, \\alpha_2 + \\alpha_3)}x^{\\alpha_1 - 1} (1-x)^{\\alpha_2 + \\alpha_3 - 1}\n",
    "\\end{align*}\n",
    "$$\n",
    "\n",
    "that is a Beta distribution with parameters $\\alpha_1$ and $\\alpha_2 + \\alpha_3$, since $\\mathrm {B} (\\alpha ,\\beta)$ has probability density function (pdf) equal to ${\\displaystyle f(x) = \\frac {x^{\\alpha -1}(1-x)^{\\beta -1}}{\\mathrm {B} (\\alpha ,\\beta )}}$."
   ]
  }
 ],
 "metadata": {
  "kernelspec": {
   "display_name": "Python 3",
   "language": "python",
   "name": "python3"
  },
  "language_info": {
   "codemirror_mode": {
    "name": "ipython",
    "version": 3
   },
   "file_extension": ".py",
   "mimetype": "text/x-python",
   "name": "python",
   "nbconvert_exporter": "python",
   "pygments_lexer": "ipython3",
   "version": "3.6.9"
  }
 },
 "nbformat": 4,
 "nbformat_minor": 2
}
