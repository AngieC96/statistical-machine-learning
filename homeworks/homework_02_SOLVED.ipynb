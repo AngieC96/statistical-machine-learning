{
 "cells": [
  {
   "cell_type": "markdown",
   "metadata": {},
   "source": [
    "## Homework 02"
   ]
  },
  {
   "cell_type": "markdown",
   "metadata": {},
   "source": [
    "SOLVED by ANGELA CARRARO"
   ]
  },
  {
   "cell_type": "markdown",
   "metadata": {},
   "source": [
    "### Exercise 1\n",
    "One half percent of the population has a coronavirus and a test is being developed. This test gives a false positive $3\\%$ of the time and a false negative $2\\%$ of the time. \n",
    "\n",
    "1. Find the probability that Luca is positive to the test.\n",
    "2. Suppose Luca is positive to the test. What is the probability that he has contracted the disease?"
   ]
  },
  {
   "cell_type": "markdown",
   "metadata": {},
   "source": [
    "**Solution.**\n",
    "\n",
    "Let us define the variable $I$ (illness) that can take values in $\\{0, 1\\}$: if $I = 1$ the person has the coronavirus, while if $I = 0$ the person doesn't have it. Then we define the varible $T$ (test) that can also take values in $\\{0, 1\\}$: if $T = 1$ the test is positive, while if $I = 0$ the test is negative.\n",
    "\n",
    "Since one half percent of the population has the coronavirus, we have that\n",
    "\n",
    "$$\n",
    "P(I = 1) = 0.5\\% = 0.005 \\\\\n",
    "P(I = 0) = 1 - P(I = 1) = 1 - 0.005 = 0.995\n",
    "$$\n",
    "\n",
    "Besides, the test gives a false positive $0.3\\%$ of the time and a false negative $2\\%$ of the time, so we have that\n",
    "\n",
    "$$\n",
    "P(T = 1 \\mid I = 0) = 3\\% = 0.03\\\\\n",
    "P(T = 0 \\mid I = 1) = 2\\% = 0.02\n",
    "$$\n",
    "\n",
    "1. So we can compute the probability that Luca is positive to the test, that means the probability of the test being positive:\n",
    "\n",
    "$$\n",
    "\\begin{align}\n",
    "\\mathrm{P}(T = 1) &= \\mathrm{P}(T = 1 \\mid I = 0) \\cdot \\mathrm{P}(I = 0) + \\mathrm{P}(T = 1 \\mid I = 1) \\cdot \\mathrm{P}(I = 1) \\\\\n",
    "&= \\mathrm{P}(T = 1 \\mid I = 0) \\cdot \\mathrm{P}(I = 0) + (1 - \\mathrm{P}(T = 0 \\mid I = 1)) \\cdot \\mathrm{P}(I = 1) \\\\\n",
    "&= 0.03 \\cdot 0.995 + (1 - 0.02) \\cdot 0.005 \\\\\n",
    "&= 0.02985 + 0.0049 = 0.03475 = 3.48 \\%\n",
    "\\end{align}\n",
    "$$\n",
    "\n",
    "2. If we suppose that Luca is positive to the test, the probability that he has contracted the disease is the probability of having the illness conditioned for the fact that the test is positive:\n",
    "\n",
    "$$\n",
    "\\mathrm{P}(I = 1 \\mid T = 1) = \\frac{\\mathrm{P}(T = 1 \\mid I = 1) \\cdot \\mathrm{P}(I = 1)}{\\mathrm{P}(T = 1)} = \\frac{(1 - \\mathrm{P}(T = 0 \\mid I = 1)) \\cdot \\mathrm{P}(I = 1)}{\\mathrm{P}(T = 1)} = \\frac{(1 - 0.02) \\cdot 0.005}{0.03475} = 0.141 = 14.1\\%\n",
    "$$"
   ]
  },
  {
   "cell_type": "markdown",
   "metadata": {},
   "source": [
    "### Exercise 2\n",
    "\n",
    "Implement the empirical cumulative distribution function $F_X(x)=$ `cdf(dist, x)` taking as inputs a `pyro.distributions` object `dist`, corresponding to the distribution of $X$, and a real value `x`.\n",
    "\n",
    "Suppose that $X\\sim \\mathcal{N}(0,1)$ and plot $F_X(x)$."
   ]
  },
  {
   "cell_type": "markdown",
   "metadata": {},
   "source": [
    "**Solution.**\n",
    "\n",
    "The **cumulative distribution function** of a real-valued random variable ${\\displaystyle X}$ is the function given by\n",
    "\n",
    "$$\n",
    "{\\displaystyle F_{X}(x)=\\operatorname {P} (X\\leq x)}\n",
    "$$\n",
    "\n",
    "where the right-hand side represents the probability that the random variable ${\\displaystyle X}$ takes on a value less than or equal to ${\\displaystyle x}$.\n",
    "\n",
    "The CDF of a continuous random variable ${\\displaystyle X}$ can be expressed as the integral of its probability density function ${\\displaystyle f_{X}}$ as follows:\n",
    "\n",
    "$$\n",
    "{\\displaystyle F_{X}(x)=\\int _{-\\infty }^{x}f_{X}(t)\\,dt.}\n",
    "$$\n",
    "\n",
    "Instead, the **empirical cumulative distribution function** is defined as:\n",
    "\n",
    "$$\n",
    "\\widehat{F}_n(x) = \\dfrac{\\text{number of elements of } y \\leq x}{n} \\, .\n",
    "$$\n",
    "\n",
    "Under some mild conditions, $\\widehat{F}_n(t)$ converges to the true cumulative distribution function $F(x)$.\n",
    "\n",
    "Sio we can build the following function:"
   ]
  },
  {
   "cell_type": "code",
   "execution_count": 51,
   "metadata": {},
   "outputs": [],
   "source": [
    "def cdf(dist, x):\n",
    "    n = 10000\n",
    "    sample = [pyro.sample(\"n\", dist) for i in range(n)]\n",
    "    min_of_x = 0\n",
    "    for i in range(n):\n",
    "        if (sample[i].item() < x):\n",
    "            min_of_x += 1\n",
    "    \n",
    "    return min_of_x/n"
   ]
  },
  {
   "cell_type": "code",
   "execution_count": 52,
   "metadata": {},
   "outputs": [
    {
     "data": {
      "image/png": "[encoded data removed]",
      "text/plain": [
       "<Figure size 864x288 with 2 Axes>"
      ]
     },
     "metadata": {
      "needs_background": "light"
     },
     "output_type": "display_data"
    }
   ],
   "source": [
    "import matplotlib\n",
    "import numpy\n",
    "import pyro\n",
    "import seaborn as sns \n",
    "import matplotlib.pyplot as plt\n",
    "import pyro.distributions as dist\n",
    "\n",
    "X =  dist.Normal(0, 1)\n",
    "normal_sample = [pyro.sample(\"n\", X) for i in range(200)]\n",
    "xx = linspace(-3.0, 3.0, 100)\n",
    "cdf_sample = [cdf(X, x) for x in xx]\n",
    "print\n",
    "\n",
    "fig, axes = plt.subplots(1, 2, figsize=(12,4))\n",
    "sns.distplot(normal_sample, ax=axes[0])\n",
    "plot(xx, cdf_sample)\n",
    "axes[0].set_title('Normal')\n",
    "axes[1].set_title('Ecdf')\n",
    "plt.show()"
   ]
  },
  {
   "cell_type": "markdown",
   "metadata": {},
   "source": [
    "### Exercise 3\n",
    "\n",
    "Suppose the heights of male students are normally distributed with mean $180$ and unknown variance $\\sigma^2$. Suppose that $\\sigma^2$ is in the range $[22,41]$ with approximately $95\\%$ probability and assign to $\\sigma^2$ an inverse-gamma $IG(38,1110)$ prior distribution .\n",
    "\n",
    "1. Empirically verify that the parameters of the inverse-gamma distribution lead to a prior probability of approximately $95\\%$ that  $\\sigma^2\\in[22,41]$.\n",
    "2. Derive the posterior density of $\\sigma^2$ corresponding to the following data: $183, 173, 181, 170, 176, 180, 187, 176, 171, 190, 184, 173, 176, 179, 181, 186$.\n",
    "Then plot it together with the prior density.\n",
    "3. Compute the posterior density of the standard deviation $\\sigma$."
   ]
  },
  {
   "cell_type": "markdown",
   "metadata": {},
   "source": [
    "**Solution.**\n",
    "\n",
    "Let's define the random variable $H$ that represent the heights of male students. We have that $H \\sim \\cal{N}(180, \\sigma^2)$ and as prior distribution is $\\sigma^2 \\sim IG(38,1110)$.\n",
    "\n",
    "1. "
   ]
  },
  {
   "cell_type": "markdown",
   "metadata": {},
   "source": [
    "### Exercise 4\n",
    "\n",
    "Prove that the Gamma distribution is the conjugate prior distribution for the Exponential likelihood."
   ]
  },
  {
   "cell_type": "markdown",
   "metadata": {},
   "source": [
    "**Solution.**\n",
    "\n",
    "The probability $p(\\theta)$ is the **conjugate prior** of the likelihood $p(\\underline{x} \\mid \\theta)$ if the probability $p(\\theta \\mid \\underline{x})$ has the same distribution of form of $p(\\theta)$.\n",
    "\n",
    "In this case we have that the likelihood has an Exponential disribution, so $p(\\underline{x} \\mid \\theta) \\sim \\text{Exp}(\\theta)$, then, if $\\underline{x} = (x_1, x_2x \\ldots, x_n)$ and setting $K = \\sum_{i=1}^n x_i$ we have that\n",
    "\n",
    "$$\n",
    "p(\\underline{x} \\mid \\theta) = \\prod_{i=1}^n \\theta e^{-\\theta x_i} = \\theta^n e^{-\\theta \\sum_{i=1}^n x_i} = \\theta^n e^{-\\theta K};\n",
    "$$\n",
    "\n",
    "and since the prior density has a Gamma distribution we have that $p(\\theta) \\sim \\text{Gamma}(\\alpha,\\beta)$, then \n",
    "\n",
    "$$\n",
    "p(\\theta) = \\frac{\\beta^\\alpha}{\\Gamma(\\alpha)}\\theta^{\\alpha-1}e^{-\\beta\\theta}.\n",
    "$$\n",
    "\n",
    "So we have that\n",
    "\n",
    "$$\n",
    "p(\\theta \\mid \\underline{x}) = \\frac{p(\\underline{x} \\mid \\theta)p(\\theta)}{p(\\underline{x})} \\propto p(\\underline{x} \\mid \\theta) p(\\theta) = \\theta^n e^{-\\theta K} \\cdot \\frac{\\beta^\\alpha}{\\Gamma(\\alpha)}\\theta^{\\alpha-1}e^{-\\beta\\theta} = \\frac{\\beta^\\alpha}{\\Gamma(\\alpha)}\\theta^{\\alpha + n - 1}e^{-(K + \\beta)\\theta}\n",
    "$$\n",
    "\n",
    "then $p(\\theta \\mid \\underline{x}) \\sim \\text{Gamma}(\\alpha, \\lambda+\\beta)$, so the Gamma distribution is the conjugate prior distribution for the Exponential likelihood."
   ]
  }
 ],
 "metadata": {
  "kernelspec": {
   "display_name": "Python (SML virtualenv)",
   "language": "python",
   "name": "statistical-machine-learning"
  },
  "language_info": {
   "codemirror_mode": {
    "name": "ipython",
    "version": 3
   },
   "file_extension": ".py",
   "mimetype": "text/x-python",
   "name": "python",
   "nbconvert_exporter": "python",
   "pygments_lexer": "ipython3",
   "version": "3.6.9"
  }
 },
 "nbformat": 4,
 "nbformat_minor": 2
}
